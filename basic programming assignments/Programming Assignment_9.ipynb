{
 "cells": [
  {
   "cell_type": "markdown",
   "id": "a282a9ee",
   "metadata": {},
   "source": [
    "# Programming Assignment_9"
   ]
  },
  {
   "cell_type": "code",
   "execution_count": 1,
   "id": "56f1c0f2",
   "metadata": {},
   "outputs": [
    {
     "data": {
      "text/plain": [
       "True"
      ]
     },
     "execution_count": 1,
     "metadata": {},
     "output_type": "execute_result"
    }
   ],
   "source": [
    "# Write a Python program to check if the given number is a Disarium Number?\n",
    "\n",
    "def is_disarium(number):\n",
    "    s = str(number)\n",
    "    total_sum = 0\n",
    "    for index, val in enumerate(s):\n",
    "        total_sum += int(val)**(index+1)\n",
    "    if total_sum == number:\n",
    "        return True\n",
    "    else:\n",
    "        return False\n",
    "\n",
    "is_disarium(175)"
   ]
  },
  {
   "cell_type": "code",
   "execution_count": 2,
   "id": "abf1bb7b",
   "metadata": {},
   "outputs": [
    {
     "name": "stdout",
     "output_type": "stream",
     "text": [
      "1\n",
      "2\n",
      "3\n",
      "4\n",
      "5\n",
      "6\n",
      "7\n",
      "8\n",
      "9\n",
      "89\n"
     ]
    }
   ],
   "source": [
    "# Write a Python program to print all disarium numbers between 1 to 100?\n",
    "\n",
    "def get_disarium(n):\n",
    "    for i in range(1,n+1):\n",
    "        s = str(i)\n",
    "        total_sum = 0\n",
    "        for index, value in enumerate(s):\n",
    "            total_sum += int(value)**(index+1)\n",
    "        if total_sum == i:\n",
    "            print(i)\n",
    "        else:\n",
    "            pass\n",
    "\n",
    "get_disarium(100)"
   ]
  },
  {
   "cell_type": "code",
   "execution_count": 3,
   "id": "85390c73",
   "metadata": {},
   "outputs": [
    {
     "data": {
      "text/plain": [
       "True"
      ]
     },
     "execution_count": 3,
     "metadata": {},
     "output_type": "execute_result"
    }
   ],
   "source": [
    "# Write a Python program to check if the given number is Happy Number?\n",
    "\n",
    "def is_happy(number):\n",
    "    s = str(number)\n",
    "    total_sum = 0\n",
    "    for val in s:\n",
    "            total_sum += int(val)**2\n",
    "    while not len(str(total_sum)) < 2:\n",
    "        s_sum = str(total_sum)\n",
    "        total_sum = 0\n",
    "        for val in s_sum:\n",
    "             total_sum += int(val)**2\n",
    "\n",
    "    if total_sum == 1:\n",
    "        return True\n",
    "    else:\n",
    "        return False\n",
    "\n",
    "is_happy(32)        "
   ]
  },
  {
   "cell_type": "code",
   "execution_count": 4,
   "id": "65248f1f",
   "metadata": {},
   "outputs": [
    {
     "name": "stdout",
     "output_type": "stream",
     "text": [
      "1\n",
      "7\n",
      "10\n",
      "13\n",
      "19\n",
      "23\n",
      "28\n",
      "31\n",
      "32\n",
      "44\n",
      "49\n",
      "68\n",
      "70\n",
      "79\n",
      "82\n",
      "86\n",
      "91\n",
      "94\n",
      "97\n",
      "100\n"
     ]
    }
   ],
   "source": [
    "# Write a Python program to print all happy numbers between 1 and 100?\n",
    "\n",
    "def get_happy(n):\n",
    "    for i in range(1,n+1):\n",
    "        s = str(i)\n",
    "        total_sum = 0\n",
    "        for val in s:\n",
    "                total_sum += int(val)**2\n",
    "        while not len(str(total_sum)) < 2:\n",
    "            s_sum = str(total_sum)\n",
    "            total_sum = 0\n",
    "            for val in s_sum:\n",
    "                 total_sum += int(val)**2\n",
    "\n",
    "        if total_sum == 1:\n",
    "            print(i)\n",
    "        else:\n",
    "            pass\n",
    "\n",
    "get_happy(100)   "
   ]
  },
  {
   "cell_type": "code",
   "execution_count": 5,
   "id": "0ac990ea",
   "metadata": {},
   "outputs": [
    {
     "data": {
      "text/plain": [
       "True"
      ]
     },
     "execution_count": 5,
     "metadata": {},
     "output_type": "execute_result"
    }
   ],
   "source": [
    "# Write a Python program to determine whether the given number is a Harshad Number?\n",
    "def is_harshad(number):\n",
    "    s = str(number)\n",
    "    temp = 0\n",
    "    for val in s:\n",
    "        temp += int(val)\n",
    "    if number % temp == 0:\n",
    "        return True\n",
    "    else:\n",
    "        return False\n",
    "\n",
    "is_harshad(24)"
   ]
  },
  {
   "cell_type": "code",
   "execution_count": 6,
   "id": "25847d12",
   "metadata": {},
   "outputs": [
    {
     "name": "stdout",
     "output_type": "stream",
     "text": [
      "2\n",
      "6\n",
      "12\n",
      "20\n",
      "30\n",
      "42\n",
      "56\n",
      "72\n",
      "90\n",
      "110\n",
      "132\n",
      "156\n",
      "182\n",
      "210\n",
      "240\n",
      "272\n",
      "306\n",
      "342\n",
      "380\n",
      "420\n",
      "462\n"
     ]
    }
   ],
   "source": [
    "# Write a Python program to print all pronic numbers between 1 and 100?\n",
    "\n",
    "def get_pronic(n):\n",
    "    for i in range(1,n+1):\n",
    "        for j in range(i+1):\n",
    "            if j*(j-1) == i:\n",
    "                print(i)\n",
    "            else:\n",
    "                pass\n",
    "\n",
    "get_pronic(500)"
   ]
  }
 ],
 "metadata": {
  "kernelspec": {
   "display_name": "Python 3 (ipykernel)",
   "language": "python",
   "name": "python3"
  },
  "language_info": {
   "codemirror_mode": {
    "name": "ipython",
    "version": 3
   },
   "file_extension": ".py",
   "mimetype": "text/x-python",
   "name": "python",
   "nbconvert_exporter": "python",
   "pygments_lexer": "ipython3",
   "version": "3.9.7"
  }
 },
 "nbformat": 4,
 "nbformat_minor": 5
}
