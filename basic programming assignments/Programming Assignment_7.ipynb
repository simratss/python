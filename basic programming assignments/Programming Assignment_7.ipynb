{
 "cells": [
  {
   "cell_type": "markdown",
   "id": "fe29d2bd",
   "metadata": {},
   "source": [
    "# Programming Assignment_7"
   ]
  },
  {
   "cell_type": "code",
   "execution_count": 1,
   "id": "6b00f13f",
   "metadata": {},
   "outputs": [
    {
     "name": "stdout",
     "output_type": "stream",
     "text": [
      "Enter number of values to store in a array: 5\n",
      "Enter value 1: 11\n",
      "Enter value 2: 25\n",
      "Enter value 3: 39\n",
      "Enter value 4: 45\n",
      "Enter value 5: 65\n",
      "sum of array [11, 25, 39, 45, 65] is 185\n"
     ]
    }
   ],
   "source": [
    "# Write a Python Program to find sum of array?\n",
    "n = int(input('Enter number of values to store in a array: '))\n",
    "l = [int(input(f'Enter value {i+1}: ')) for i in range(n)]\n",
    "\n",
    "def sum_of_list(list_1):\n",
    "    return sum(list_1)\n",
    "\n",
    "a = sum_of_list(l)\n",
    "print(f'sum of array {l} is {a}')"
   ]
  },
  {
   "cell_type": "code",
   "execution_count": 2,
   "id": "681c39a7",
   "metadata": {},
   "outputs": [
    {
     "name": "stdout",
     "output_type": "stream",
     "text": [
      "Enter number of values to store in a array: 5\n",
      "Enter value 1: 1984\n",
      "Enter value 2: 2569\n",
      "Enter value 3: 2698\n",
      "Enter value 4: 2456\n",
      "Enter value 5: 1568\n",
      "largest element in array [1984, 2569, 2698, 2456, 1568] is 2698\n"
     ]
    }
   ],
   "source": [
    "# Write a Python Program to find largest element in an array?\n",
    "n = int(input('Enter number of values to store in a array: '))\n",
    "l = [int(input(f'Enter value {i+1}: ')) for i in range(n)]\n",
    "\n",
    "def max_list(list_1):\n",
    "    return max(list_1)\n",
    "\n",
    "a = max_list(l)\n",
    "print(f'largest element in array {l} is {a}')"
   ]
  },
  {
   "cell_type": "code",
   "execution_count": 39,
   "id": "ebf76146",
   "metadata": {},
   "outputs": [
    {
     "name": "stdout",
     "output_type": "stream",
     "text": [
      "Enter left for left rotate or right for right rotate: left\n",
      "Enter number of times to rotate array: 3\n",
      "Enter number of values to store in a array: 9\n",
      "Enter value 1: 1\n",
      "Enter value 2: 2\n",
      "Enter value 3: 3\n",
      "Enter value 4: 4\n",
      "Enter value 5: 5\n",
      "Enter value 6: 6\n",
      "Enter value 7: 7\n",
      "Enter value 8: 8\n",
      "Enter value 9: 9\n",
      "array entered by user is [1, 2, 3, 4, 5, 6, 7, 8, 9]\n",
      "rotated array is [4, 5, 6, 7, 8, 9, 1, 2, 3]\n"
     ]
    }
   ],
   "source": [
    "# Write a Python Program for array rotation?\n",
    "rot = input('Enter left for left rotate or right for right rotate: ').lower()\n",
    "n = int(input('Enter number of times to rotate array: '))\n",
    "\n",
    "def rotate(rotation_axis, n_times):\n",
    "    num = int(input('Enter number of values to store in a array: '))\n",
    "    l = [int(input(f'Enter value {i+1}: ')) for i in range(num)]\n",
    "    print(f'array entered by user is {l}')\n",
    "    if rotation_axis == 'right':\n",
    "        for i in range(n_times):\n",
    "            l.insert(0,l[-1])   \n",
    "            l.pop(-1)\n",
    "        return l\n",
    "    elif rotation_axis == 'left':\n",
    "        for i in range(n_times):\n",
    "            l.append(l[0])\n",
    "            l.pop(0)\n",
    "        return l\n",
    "    else:\n",
    "        print('Wrong Input. Kindly enter left or right')\n",
    "        \n",
    "new_list = rotate(rot,n)\n",
    "print(f'rotated array is {new_list}')\n"
   ]
  },
  {
   "cell_type": "code",
   "execution_count": 53,
   "id": "5f4fb379",
   "metadata": {},
   "outputs": [
    {
     "name": "stdout",
     "output_type": "stream",
     "text": [
      "Enter number elements to split in an array: 3\n",
      "Enter number of values to store in a array: 9\n",
      "Enter value 1: 11\n",
      "Enter value 2: 25\n",
      "Enter value 3: 63\n",
      "Enter value 4: 56\n",
      "Enter value 5: 14\n",
      "Enter value 6: 85\n",
      "Enter value 7: 65\n",
      "Enter value 8: 31\n",
      "Enter value 9: 17\n",
      "array entered by user is [11, 25, 63, 56, 14, 85, 65, 31, 17]\n",
      "splited array is [11, 25, 63] and joined array is [56, 14, 85, 65, 31, 17, 11, 25, 63]\n"
     ]
    }
   ],
   "source": [
    "# Write a Python Program to Split the array and add the first part to the end?\n",
    "\n",
    "n = int(input('Enter number elements to split in an array: '))\n",
    "\n",
    "def split_join(n_split):\n",
    "    num = int(input('Enter number of values to store in a array: '))\n",
    "    l = [int(input(f'Enter value {i+1}: ')) for i in range(num)]\n",
    "    print(f'array entered by user is {l}')\n",
    "    l1 = []\n",
    "    for i in range(n_times):\n",
    "        l1.append(l[0])\n",
    "        l.pop(0)\n",
    "    l.extend(l1)\n",
    "    return l, l1\n",
    "new_list, splitted_list = split_join(n)\n",
    "print(f'splited array is {splitted_list} and joined array is {new_list}')\n"
   ]
  },
  {
   "cell_type": "code",
   "execution_count": 68,
   "id": "e98645b7",
   "metadata": {},
   "outputs": [
    {
     "data": {
      "text/plain": [
       "False"
      ]
     },
     "execution_count": 68,
     "metadata": {},
     "output_type": "execute_result"
    }
   ],
   "source": [
    "# Write a Python Program to check if given array is Monotonic?\n",
    "l = [11, 25, 63, 56, 14, 85, 65, 31, 17]\n",
    "def is_monotonic(array):\n",
    "    \"\"\"An array is said to be monotonic in nature if it is either\\\n",
    "       continuously increasing or continuously decreasing.\"\"\"\n",
    "    return (all(l[i] >= l[i+1] for i in range(len(l)-1)) or \n",
    "            all(l[i] <= l[i+1] for i in range(len(l)-1)))\n",
    "is_monotonic(l)"
   ]
  }
 ],
 "metadata": {
  "kernelspec": {
   "display_name": "Python 3 (ipykernel)",
   "language": "python",
   "name": "python3"
  },
  "language_info": {
   "codemirror_mode": {
    "name": "ipython",
    "version": 3
   },
   "file_extension": ".py",
   "mimetype": "text/x-python",
   "name": "python",
   "nbconvert_exporter": "python",
   "pygments_lexer": "ipython3",
   "version": "3.9.7"
  }
 },
 "nbformat": 4,
 "nbformat_minor": 5
}
