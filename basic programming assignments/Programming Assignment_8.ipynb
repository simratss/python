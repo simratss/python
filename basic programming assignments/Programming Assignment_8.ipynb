{
 "cells": [
  {
   "cell_type": "markdown",
   "id": "074a1787",
   "metadata": {},
   "source": [
    "# Programming Assignment_8"
   ]
  },
  {
   "cell_type": "markdown",
   "id": "c196c8f2",
   "metadata": {},
   "source": [
    "1. Write a Python Program to Add Two Matrices?"
   ]
  },
  {
   "cell_type": "code",
   "execution_count": 1,
   "id": "6b34595e",
   "metadata": {},
   "outputs": [
    {
     "data": {
      "text/plain": [
       "[[10, 10], [10, 10], [10, 10]]"
      ]
     },
     "execution_count": 1,
     "metadata": {},
     "output_type": "execute_result"
    }
   ],
   "source": [
    "m1 = [[1,2],\n",
    "    [3 ,4],\n",
    "    [5 ,6]]\n",
    "  \n",
    "m2 = [[9,8],\n",
    "    [7,6],\n",
    "    [5,4]]\n",
    "\n",
    "\n",
    "def add_matrix(matrix_1, matrix_2):\n",
    "    if len(m1) == len(m2) and all([len(a)==len(b) for a,b in zip(m1,m2)]):\n",
    "        s = [[m+n for m,n in zip(i,j)] for i,j in zip(m1,m2)]\n",
    "        return s\n",
    "    else:\n",
    "        print('Operation not supported')\n",
    "\n",
    "        \n",
    "add_matrix(m1,m2)"
   ]
  },
  {
   "cell_type": "code",
   "execution_count": 2,
   "id": "b7181392",
   "metadata": {},
   "outputs": [
    {
     "name": "stdout",
     "output_type": "stream",
     "text": [
      "sum of Matrix [[1, 2], [3, 4], [5, 6]] and [[9, 8], [7, 6], [5, 4]] is [[10, 10], [10, 10], [10, 10]]\n"
     ]
    }
   ],
   "source": [
    "def add_matrix(X,Y):\n",
    "    if len(X) == len(Y) and len(X[0]) == len(Y[0]):\n",
    "        result = [[X[i][j] + Y[i][j]  for j in range(len(X[0]))] for i in range(len(X))]\n",
    "        return result\n",
    "    else:\n",
    "        print('Kindly input matrix of same n x d dimension')\n",
    "\n",
    "        \n",
    "print(f'sum of Matrix {m1} and {m2} is {add_matrix(m1,m2)}')\n",
    "\n"
   ]
  },
  {
   "cell_type": "markdown",
   "id": "748b4b74",
   "metadata": {},
   "source": [
    "2. Write a Python Program to Multiply Two Matrices?"
   ]
  },
  {
   "cell_type": "code",
   "execution_count": 3,
   "id": "d0d3fc1c",
   "metadata": {},
   "outputs": [
    {
     "data": {
      "text/plain": [
       "[[58, 64], [139, 154]]"
      ]
     },
     "execution_count": 3,
     "metadata": {},
     "output_type": "execute_result"
    }
   ],
   "source": [
    "m1 = [[1,2,3],[4,5,6]]\n",
    "m2 = [[7,8],[9,10],[11,12]]\n",
    "\n",
    "def mul_matrix(matrix_1,matrix_2):\n",
    "    if len(matrix_1[0]) ==  len(matrix_2):\n",
    "        l = [[0 for j in range(len(matrix_2[0]))] for i in range(len(matrix_1))]\n",
    "        for i in range(len(matrix_1[0])):\n",
    "            for j in range(len(l)):\n",
    "                for k in range(len(l[0])):\n",
    "                    l[j][k] += matrix_1[j][i] * matrix_2[i][k]\n",
    "        return l\n",
    "    else:\n",
    "        print('Kindly input m*n and n*d dimension matrix')\n",
    "\n",
    "mul_matrix(m1, m2)"
   ]
  },
  {
   "cell_type": "code",
   "execution_count": 4,
   "id": "54c1972c",
   "metadata": {},
   "outputs": [
    {
     "name": "stdout",
     "output_type": "stream",
     "text": [
      "[[37, 43, 59], [34, 58, 62], [58, 92, 103]]\n"
     ]
    }
   ],
   "source": [
    "A = [[5, 4, 3],  \n",
    "     [2, 4, 6],  \n",
    "     [4, 7, 9]]    \n",
    "B = [[3, 2, 4],  \n",
    "     [4, 3, 6],  \n",
    "     [2, 7, 5]]   \n",
    "print(mul_matrix(A, B))"
   ]
  },
  {
   "cell_type": "code",
   "execution_count": 5,
   "id": "54c03963",
   "metadata": {},
   "outputs": [
    {
     "data": {
      "text/plain": [
       "[[83, 63, 37, 75]]"
      ]
     },
     "execution_count": 5,
     "metadata": {},
     "output_type": "execute_result"
    }
   ],
   "source": [
    "m1 = [[3,4,2]]\n",
    "m2 = [[13,9,7,15],[8,7,4,6],[6,4,0,3]]\n",
    "mul_matrix(m1, m2)"
   ]
  },
  {
   "cell_type": "code",
   "execution_count": 6,
   "id": "988e2a0c",
   "metadata": {},
   "outputs": [
    {
     "data": {
      "text/plain": [
       "[[4, 8, 12], [5, 10, 15], [6, 12, 18]]"
      ]
     },
     "execution_count": 6,
     "metadata": {},
     "output_type": "execute_result"
    }
   ],
   "source": [
    "m1 = [[4],[5],[6]]\n",
    "m2 = [[1,2,3]]\n",
    "mul_matrix(m1, m2)"
   ]
  },
  {
   "cell_type": "code",
   "execution_count": 7,
   "id": "a3c59153",
   "metadata": {},
   "outputs": [
    {
     "data": {
      "text/plain": [
       "[[10], [22], [14]]"
      ]
     },
     "execution_count": 7,
     "metadata": {},
     "output_type": "execute_result"
    }
   ],
   "source": [
    "m1 = [[1,2],[3,4],[5,1]]\n",
    "m2 = [[2],[4]]\n",
    "mul_matrix(m1, m2)"
   ]
  },
  {
   "cell_type": "markdown",
   "id": "2ea9d75a",
   "metadata": {},
   "source": [
    "3. Write a Python Program to Transpose a Matrix?"
   ]
  },
  {
   "cell_type": "code",
   "execution_count": 8,
   "id": "5eb93fda",
   "metadata": {},
   "outputs": [
    {
     "data": {
      "text/plain": [
       "[[1, 3, 5], [2, 4, 1]]"
      ]
     },
     "execution_count": 8,
     "metadata": {},
     "output_type": "execute_result"
    }
   ],
   "source": [
    "def matrix_transpose(a_matrix):\n",
    "    m_t = [[a_matrix[j][i] for j in range(len(a_matrix))] for i in range(len(a_matrix[0]))]\n",
    "    return m_t\n",
    "\n",
    "\n",
    "matrix_transpose([[1,2],[3,4],[5,1]])"
   ]
  },
  {
   "cell_type": "code",
   "execution_count": 9,
   "id": "cf732014",
   "metadata": {},
   "outputs": [
    {
     "name": "stdout",
     "output_type": "stream",
     "text": [
      "transpose of matrix [[2, -9, 3], [13, 11, -17], [3, 6, 15], [4, 13, 1]] is \n",
      "[[2, 13, 3, 4], [-9, 11, 6, 13], [3, -17, 15, 1]]\n",
      "Transpose of M' will return original marix\n",
      "[[2, -9, 3], [13, 11, -17], [3, 6, 15], [4, 13, 1]]\n"
     ]
    }
   ],
   "source": [
    "m = [[2,-9,3],[13,11,-17],[3,6,15],[4,13,1]]\n",
    "m_t = matrix_transpose(m)\n",
    "print(f'transpose of matrix {m} is \\n{m_t}')\n",
    "\n",
    "print(f\"Transpose of M' will return original marix\\n{matrix_transpose(m_t)}\")"
   ]
  },
  {
   "cell_type": "markdown",
   "id": "e9da6d90",
   "metadata": {},
   "source": [
    "4. Write a Python Program to Sort Words in Alphabetic Order?"
   ]
  },
  {
   "cell_type": "code",
   "execution_count": 10,
   "id": "ab18ef5d",
   "metadata": {},
   "outputs": [
    {
     "data": {
      "text/plain": [
       "['Hello',\n",
       " 'a',\n",
       " 'a',\n",
       " 'from',\n",
       " 'is',\n",
       " 'program',\n",
       " 'punctuation',\n",
       " 'python',\n",
       " 'remove',\n",
       " 'string',\n",
       " 'this',\n",
       " 'to']"
      ]
     },
     "execution_count": 10,
     "metadata": {},
     "output_type": "execute_result"
    }
   ],
   "source": [
    "def sort_words(a_string):\n",
    "    return sorted(a_string.split())\n",
    "\n",
    "\n",
    "s = 'Hello this is a python program to remove punctuation from a string'\n",
    "sort_words(s)"
   ]
  },
  {
   "cell_type": "markdown",
   "id": "baa896af",
   "metadata": {},
   "source": [
    "5. Write a Python Program to Remove Punctuation From a String?"
   ]
  },
  {
   "cell_type": "code",
   "execution_count": 11,
   "id": "f59f56d1",
   "metadata": {},
   "outputs": [
    {
     "name": "stdout",
     "output_type": "stream",
     "text": [
      "Hello this is a python program to remove punctuation from a string\n"
     ]
    }
   ],
   "source": [
    "s = 'Hello! this is a python program; to remove, punctuation from a string.'\n",
    "\n",
    "\n",
    "def remove_punctuation(string_1):\n",
    "    import string\n",
    "    return string_1.translate(str.maketrans('', '', string.punctuation))\n",
    "\n",
    "\n",
    "p_s = remove_punctuation(s)\n",
    "print(p_s)"
   ]
  },
  {
   "cell_type": "code",
   "execution_count": 12,
   "id": "418fd6dc",
   "metadata": {},
   "outputs": [
    {
     "name": "stdout",
     "output_type": "stream",
     "text": [
      "Hello this is a python program to remove punctuation from a string\n"
     ]
    }
   ],
   "source": [
    "s = 'Hello! this is a python program; to remove, punctuation from a string.'\n",
    "\n",
    "def remove_punctuation(string_1):\n",
    "    import string\n",
    "    punc = string.punctuation\n",
    "    for s in punc:\n",
    "        if s in string_1:\n",
    "            string_1 = string_1.replace(s,\"\")\n",
    "    return string_1\n",
    "\n",
    "p_s = remove_punctuation(s)\n",
    "print(p_s)"
   ]
  }
 ],
 "metadata": {
  "kernelspec": {
   "display_name": "Python 3 (ipykernel)",
   "language": "python",
   "name": "python3"
  },
  "language_info": {
   "codemirror_mode": {
    "name": "ipython",
    "version": 3
   },
   "file_extension": ".py",
   "mimetype": "text/x-python",
   "name": "python",
   "nbconvert_exporter": "python",
   "pygments_lexer": "ipython3",
   "version": "3.9.7"
  }
 },
 "nbformat": 4,
 "nbformat_minor": 5
}
