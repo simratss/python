{
 "cells": [
  {
   "cell_type": "markdown",
   "id": "25bb44d9",
   "metadata": {},
   "source": [
    "# Programming Assignment_5"
   ]
  },
  {
   "cell_type": "code",
   "execution_count": 6,
   "id": "0ef31f08",
   "metadata": {},
   "outputs": [
    {
     "name": "stdout",
     "output_type": "stream",
     "text": [
      "Enter number of digits you want to calculate LCM for: 2\n",
      "Enter number 1 below\n",
      "Enter number: 12\n",
      "Enter number 2 below\n",
      "Enter number: 16\n",
      "LCM of 12, 16, is 48.0\n"
     ]
    }
   ],
   "source": [
    "# 1 Write a Python Program to Find LCM?\n",
    "n = int(input('Enter number of digits you want to calculate LCM for: '))\n",
    "l = []\n",
    "for i in range(n):\n",
    "    print(f'Enter number {i+1} below')\n",
    "    l.append(int(input('Enter number: ')))\n",
    "def lcm(l):\n",
    "    from math import gcd\n",
    "    if n == 3:\n",
    "        a,b,c = l[0],l[1],l[2]\n",
    "        hcf_1 = gcd(a,b)\n",
    "        lcm_1 = a*b/hcf_1\n",
    "        hcf_2 = gcd(c,hcf_1)\n",
    "        lcm_2 = c * lcm_1/hcf_2\n",
    "        print(f'LCM of {a}, {b}, {c} is {lcm_2}')\n",
    "    elif n == 2:\n",
    "        a,b = l[0],l[1]\n",
    "        hcf_1 = gcd(a,b)\n",
    "        lcm_1 = a*b/hcf_1\n",
    "        print(f'LCM of {a}, {b}, is {lcm_1}')\n",
    "lcm(l)    "
   ]
  },
  {
   "cell_type": "code",
   "execution_count": 4,
   "id": "af20f023",
   "metadata": {},
   "outputs": [
    {
     "name": "stdout",
     "output_type": "stream",
     "text": [
      "enter two numbers separated by comma50,55\n"
     ]
    },
    {
     "data": {
      "text/plain": [
       "5"
      ]
     },
     "execution_count": 4,
     "metadata": {},
     "output_type": "execute_result"
    }
   ],
   "source": [
    "# 2 Write a Python Program to Find HCF?\n",
    "import math\n",
    "a,b = map(int,input('enter two numbers separated by comma').split(','))\n",
    "math.gcd(a,b)"
   ]
  },
  {
   "cell_type": "code",
   "execution_count": 3,
   "id": "e945931a",
   "metadata": {},
   "outputs": [
    {
     "name": "stdout",
     "output_type": "stream",
     "text": [
      "Enter number of digits you want to calculate LCM for: 3\n",
      "Enter number 1 below\n",
      "Enter number: 105\n",
      "Enter number 2 below\n",
      "Enter number: 135\n",
      "Enter number 3 below\n",
      "Enter number: 60\n",
      "HCF of 105, 135, 60 is 15\n"
     ]
    }
   ],
   "source": [
    "# 3 Write a Python Program to Find HCF?\n",
    "def hcf(x,y): \n",
    "    if x > y: \n",
    "        small = y \n",
    "    else: \n",
    "        small = x \n",
    "    for i in range(1, small+1): \n",
    "        if((x % i == 0) and (y % i == 0)): \n",
    "            hcf = i     \n",
    "    return hcf\n",
    "n = int(input('Enter number of digits you want to calculate LCM for: '))\n",
    "l = []\n",
    "for i in range(n):\n",
    "    print(f'Enter number {i+1} below')\n",
    "    l.append(int(input('Enter number: ')))\n",
    "if n == 3:\n",
    "    a,b,c = l[0],l[1],l[2]\n",
    "    hcf_1 = hcf(a,b)\n",
    "    hcf_2 = hcf(c,hcf_1)\n",
    "    print(f'HCF of {a}, {b}, {c} is {hcf_2}')\n",
    "elif n == 2:\n",
    "    a,b = l[0],l[1]\n",
    "    hcf_1 = hcf(a,b)\n",
    "    print(f'HCF of {a}, {b}, is {hcf_1}')"
   ]
  },
  {
   "cell_type": "code",
   "execution_count": 17,
   "id": "6d7a1fec",
   "metadata": {},
   "outputs": [
    {
     "name": "stdout",
     "output_type": "stream",
     "text": [
      "Enter a number: 10\n",
      "Binary value of 10 is 1010\n",
      "Octal value of 10 is 12\n",
      "Hexadecimal value of 10 is a\n"
     ]
    }
   ],
   "source": [
    "# 4 Write a Python Program to Convert Decimal to Binary, Octal and Hexadecimal?\n",
    "\n",
    "def decimal_to_bin(n):\n",
    "    if n==0: \n",
    "        return ''\n",
    "    else:\n",
    "        return f'{n:b}'\n",
    "def decimal_to_octal(n):\n",
    "    if n==0: \n",
    "        return ''\n",
    "    else:\n",
    "        return f'{n:o}'\n",
    "def decimal_to_hex(n):\n",
    "    if n==0: \n",
    "        return ''\n",
    "    else:\n",
    "        return f'{n:x}'\n",
    "a = int(input('Enter a number: '))\n",
    "print(f'Binary value of {a} is {decimal_to_bin(a)}')\n",
    "print(f'Octal value of {a} is {decimal_to_octal(a)}')\n",
    "print(f'Hexadecimal value of {a} is {decimal_to_hex(a)}')"
   ]
  },
  {
   "cell_type": "code",
   "execution_count": 19,
   "id": "51e60e23",
   "metadata": {},
   "outputs": [
    {
     "name": "stdout",
     "output_type": "stream",
     "text": [
      "Enter a number: 10\n",
      "Binary value of 10 is 1010\n",
      "Octal value of 10 is 12\n",
      "Hexadecimal value of 10 is a\n"
     ]
    }
   ],
   "source": [
    "# 4 Write a Python Program to Convert Decimal to Binary, Octal and Hexadecimal?\n",
    "# using python inbuilt functions\n",
    "a = int(input('Enter a number: '))\n",
    "print(f'Binary value of {a} is {bin(a)[2:]}')\n",
    "print(f'Octal value of {a} is {oct(a)[2:]}')\n",
    "print(f'Hexadecimal value of {a} is {hex(a)[2:]}')"
   ]
  },
  {
   "cell_type": "code",
   "execution_count": 9,
   "id": "4433c51e",
   "metadata": {},
   "outputs": [
    {
     "name": "stdout",
     "output_type": "stream",
     "text": [
      "Enter character to find ASCII value: p\n",
      "ASCII value of p is 112\n"
     ]
    }
   ],
   "source": [
    "# 5 Write a Python Program To Find ASCII value of a character?\n",
    "a = input('Enter character to find ASCII value: ')\n",
    "def ascii(n):\n",
    "    return ord(n)\n",
    "ascii(a)\n",
    "print(f'ASCII value of {a} is {ascii(a)}')"
   ]
  },
  {
   "cell_type": "code",
   "execution_count": 23,
   "id": "4f3d9c91",
   "metadata": {},
   "outputs": [
    {
     "name": "stdout",
     "output_type": "stream",
     "text": [
      "Select + for addition\n",
      "       - for subtraction\n",
      "       * for multiplication\n",
      "       / for divide\n",
      "What type of function you want: *\n",
      "Enter two numbers separated by comma: 17,19\n",
      "323\n",
      "Want to continue or not? type y for yes, n for no : y\n",
      "What type of function you want: -\n",
      "Enter two numbers separated by comma: 2235,156\n",
      "2079\n",
      "Want to continue or not? type y for yes, n for no : h\n",
      "kindly input y or n only\n",
      "Want to continue or not? type y for yes, n for no : n\n",
      "Thank you for using Calculator\n"
     ]
    }
   ],
   "source": [
    "# 6 Write a Python Program to Make a Simple Calculator with 4 basic mathematical operations?\n",
    "print('Select + for addition\\n \\\n",
    "      - for subtraction\\n \\\n",
    "      * for multiplication\\n \\\n",
    "      / for divide')\n",
    "def calculator(function):\n",
    "    if function == '+':\n",
    "        a,b = map(int,input('Enter two numbers separated by comma: ').split(','))\n",
    "        return a+b\n",
    "    elif function == '-':\n",
    "        a,b = map(int,input('Enter two numbers separated by comma: ').split(','))\n",
    "        return a-b\n",
    "    elif function == '*':\n",
    "        a,b = map(int,input('Enter two numbers separated by comma: ').split(','))\n",
    "        return a*b\n",
    "    elif function == '/':\n",
    "        a,b = map(int,input('Enter two numbers separated by comma: ').split(','))\n",
    "        return a/b\n",
    "    else:\n",
    "        print('Incorrect input, kindly select from given options')\n",
    "ac = True\n",
    "a = input('What type of function you want: ')\n",
    "print(calculator(a))\n",
    "while ac:\n",
    "    c = input('Want to continue or not? type y for yes, n for no : ')\n",
    "    if c == 'y':\n",
    "        a = input('What type of function you want: ')\n",
    "        print(calculator(a))\n",
    "    elif c == 'n':\n",
    "        print('Thank you for using Calculator')\n",
    "        break\n",
    "    else:\n",
    "        print('kindly input y or n only')\n",
    "        "
   ]
  }
 ],
 "metadata": {
  "kernelspec": {
   "display_name": "Python 3 (ipykernel)",
   "language": "python",
   "name": "python3"
  },
  "language_info": {
   "codemirror_mode": {
    "name": "ipython",
    "version": 3
   },
   "file_extension": ".py",
   "mimetype": "text/x-python",
   "name": "python",
   "nbconvert_exporter": "python",
   "pygments_lexer": "ipython3",
   "version": "3.9.7"
  }
 },
 "nbformat": 4,
 "nbformat_minor": 5
}
