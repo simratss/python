{
 "cells": [
  {
   "cell_type": "markdown",
   "id": "2b183cd0",
   "metadata": {},
   "source": [
    "# Programming Assignment_1"
   ]
  },
  {
   "cell_type": "code",
   "execution_count": 1,
   "id": "423f473b",
   "metadata": {},
   "outputs": [
    {
     "name": "stdout",
     "output_type": "stream",
     "text": [
      "Hello Python\n"
     ]
    }
   ],
   "source": [
    "# Write a Python program to print \"Hello Python\"?\n",
    "a = 'Hello Python'\n",
    "print(a)"
   ]
  },
  {
   "cell_type": "code",
   "execution_count": 2,
   "id": "e825539f",
   "metadata": {},
   "outputs": [
    {
     "name": "stdout",
     "output_type": "stream",
     "text": [
      "Addition of x & y is 18\n",
      "Division of x & y is 2.0\n"
     ]
    }
   ],
   "source": [
    "# Write a Python program to do arithmetical operations addition and division.?\n",
    "x = 12\n",
    "y = 6\n",
    "add = x + y\n",
    "div = x/y\n",
    "print(f'Addition of x & y is {add}\\nDivision of x & y is {div}')"
   ]
  },
  {
   "cell_type": "code",
   "execution_count": 30,
   "id": "3f9eaef5",
   "metadata": {},
   "outputs": [
    {
     "name": "stdout",
     "output_type": "stream",
     "text": [
      "Input \"0\" for triangle with given base and height \n",
      "Input \"1\" for equilateral triangle \n",
      "Input \"2\" for triangle with three sides given \n",
      "Input \"3\" for isocelles triangle\n",
      "Kindly select the type of triangle from above printed statement: 1\n",
      "Enter side of equilateral traingle: 2\n",
      "Area of triangle is: 1.7320508075688772\n"
     ]
    }
   ],
   "source": [
    "# Write a Python program to find the area of a triangle?\n",
    "print('Input \"0\" for triangle with given base and height \\n\\\n",
    "Input \"1\" for equilateral triangle \\n\\\n",
    "Input \"2\" for triangle with three sides given \\n\\\n",
    "Input \"3\" for isocelles triangle')\n",
    "\n",
    "inp = int(input('Kindly select the type of triangle from above printed statement: '))\n",
    "if inp == 0:    \n",
    "    h, b = map(int,input('Enter height and base separated with space: ').split(\" \"))\n",
    "    area = b*h/2\n",
    "    print(f'Area of triangle is: {area}')\n",
    "elif inp == 1:\n",
    "    s = int(input('Enter side of equilateral traingle: '))\n",
    "    area = ((3)**0.5 * s**2)/4\n",
    "    print(f'Area of triangle is: {area}')\n",
    "elif inp == 2:\n",
    "    a,b,c = map(int,input('Enter sides of triangle separated with space: ').split())\n",
    "    s = (a+b+c)/2\n",
    "    area = (s*(s-a)*(s-b)*(s-c))**0.5\n",
    "    print(f'Area of triangle is: {area}')\n",
    "else:\n",
    "    a, b = map(int,input('Enter length of one of the equal side and base separated with space: ').split())\n",
    "    area = (b(4*a**2 - b**2)**0.5)/4\n",
    "    print(f'Area of triangle is: {area}')"
   ]
  },
  {
   "cell_type": "code",
   "execution_count": 33,
   "id": "23410336",
   "metadata": {},
   "outputs": [
    {
     "name": "stdout",
     "output_type": "stream",
     "text": [
      "Enter A and B separated with space: 5 7\n",
      "Original A was 5 & B was 7\n",
      "swapped A is 7 & B is 5\n"
     ]
    }
   ],
   "source": [
    "# Write a Python program to swap two variables?\n",
    "a, b = map(int,input('Enter A and B separated with space: ').split(\" \"))\n",
    "print(f'Original A was {a} & B was {b}')\n",
    "c = a\n",
    "a = b\n",
    "b = c\n",
    "print(f'swapped A is {a} & B is {b}')"
   ]
  },
  {
   "cell_type": "code",
   "execution_count": 34,
   "id": "411eac27",
   "metadata": {},
   "outputs": [
    {
     "name": "stdout",
     "output_type": "stream",
     "text": [
      "Enter A and B separated with space: 8 4\n",
      "Original A was 8 & B was 4\n",
      "swapped A is 4 & B is 8\n"
     ]
    }
   ],
   "source": [
    "# Write a Python program to swap two variables?\n",
    "a, b = map(int,input('Enter A and B separated with space: ').split(\" \"))\n",
    "def swap(a,b):\n",
    "    return b, a\n",
    "print(f'Original A was {a} & B was {b}')\n",
    "a,b = swap(a,b)\n",
    "print(f'swapped A is {a} & B is {b}')"
   ]
  },
  {
   "cell_type": "code",
   "execution_count": 69,
   "id": "a9dfa949",
   "metadata": {},
   "outputs": [
    {
     "name": "stdout",
     "output_type": "stream",
     "text": [
      "0.7677912308967161\n"
     ]
    }
   ],
   "source": [
    "# Write a Python program to generate a random number?\n",
    "def generate_random():\n",
    "    import random\n",
    "    return random.random()\n",
    "r = generate_random()\n",
    "print(r)"
   ]
  }
 ],
 "metadata": {
  "kernelspec": {
   "display_name": "Python 3 (ipykernel)",
   "language": "python",
   "name": "python3"
  },
  "language_info": {
   "codemirror_mode": {
    "name": "ipython",
    "version": 3
   },
   "file_extension": ".py",
   "mimetype": "text/x-python",
   "name": "python",
   "nbconvert_exporter": "python",
   "pygments_lexer": "ipython3",
   "version": "3.9.7"
  }
 },
 "nbformat": 4,
 "nbformat_minor": 5
}
