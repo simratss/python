{
 "cells": [
  {
   "cell_type": "markdown",
   "id": "8cc3d95a",
   "metadata": {},
   "source": [
    "# Programming Assignment_6"
   ]
  },
  {
   "cell_type": "code",
   "execution_count": 2,
   "id": "a5181cd5",
   "metadata": {},
   "outputs": [
    {
     "name": "stdout",
     "output_type": "stream",
     "text": [
      "Enter number of values which you want in Fibonacci series: 10\n"
     ]
    },
    {
     "data": {
      "text/plain": [
       "[0, 1, 1, 2, 3, 5, 8, 13, 21, 34]"
      ]
     },
     "execution_count": 2,
     "metadata": {},
     "output_type": "execute_result"
    }
   ],
   "source": [
    "# Write a Python Program to Display Fibonacci Sequence Using Recursion?\n",
    "a = int(input('Enter number of values which you want in Fibonacci series: '))\n",
    "def fibonacci_series(n):\n",
    "    l = [0,1]\n",
    "    if n in l :\n",
    "        return l[n]\n",
    "    else:\n",
    "        return fibonacci_series(n-1) + fibonacci_series(n-2)\n",
    "c = []        \n",
    "for i in range(a):\n",
    "    c.append(fibonacci_series(i))\n",
    "c"
   ]
  },
  {
   "cell_type": "code",
   "execution_count": 1,
   "id": "205a3ff5",
   "metadata": {},
   "outputs": [
    {
     "name": "stdout",
     "output_type": "stream",
     "text": [
      "Enter a number to get factorial: 5\n"
     ]
    },
    {
     "data": {
      "text/plain": [
       "120"
      ]
     },
     "execution_count": 1,
     "metadata": {},
     "output_type": "execute_result"
    }
   ],
   "source": [
    "# Write a Python Program to Find Factorial of Number Using Recursion?\n",
    "a = int(input('Enter a number to get factorial: '))\n",
    "def factorial(n):\n",
    "    f = 1\n",
    "    if n == 0 or n == 1:\n",
    "        return f\n",
    "    else :\n",
    "        f *= n*factorial(n-1)\n",
    "        return f\n",
    "factorial(a)"
   ]
  },
  {
   "cell_type": "code",
   "execution_count": 3,
   "id": "6343f654",
   "metadata": {},
   "outputs": [
    {
     "name": "stdout",
     "output_type": "stream",
     "text": [
      "Kindly enter you height(in cm) and weight(in kg) separated by comma: 187,92\n"
     ]
    },
    {
     "data": {
      "text/plain": [
       "26.309016557522373"
      ]
     },
     "execution_count": 3,
     "metadata": {},
     "output_type": "execute_result"
    }
   ],
   "source": [
    "# Write a Python Program to calculate your Body Mass Index?\n",
    "def bmi():\n",
    "    h,w = map(int,input('Kindly enter you height(in cm) and weight(in kg) separated by comma: ').split(','))\n",
    "    return (w/(h/100)**2)\n",
    "bmi()"
   ]
  },
  {
   "cell_type": "code",
   "execution_count": 4,
   "id": "26833bd1",
   "metadata": {},
   "outputs": [
    {
     "name": "stdout",
     "output_type": "stream",
     "text": [
      "Enter a number to find natural log: 10\n"
     ]
    },
    {
     "data": {
      "text/plain": [
       "2.302585092994046"
      ]
     },
     "execution_count": 4,
     "metadata": {},
     "output_type": "execute_result"
    }
   ],
   "source": [
    "# Write a Python Program to calculate the natural logarithm of any number?\n",
    "a = int(input('Enter a number to find natural log: '))\n",
    "def log_n(n):\n",
    "    import numpy as np\n",
    "    return np.log(n)\n",
    "log_n(a)"
   ]
  },
  {
   "cell_type": "code",
   "execution_count": 5,
   "id": "fa916bb8",
   "metadata": {},
   "outputs": [
    {
     "name": "stdout",
     "output_type": "stream",
     "text": [
      "Enter a number of n natural numbers to find cube sum: 10\n",
      "sum of cube of 1st 10 natural numbers is: 3025.0\n"
     ]
    }
   ],
   "source": [
    "# Write a Python Program for cube sum of first n natural numbers?\n",
    "a = int(input('Enter a number of n natural numbers to find cube sum: '))\n",
    "def cube_sum_natural(n):\n",
    "    return (n**2*(n+1)**2)/4\n",
    "print(f'sum of cube of 1st {a} natural numbers is: {cube_sum_natural(a)}')"
   ]
  }
 ],
 "metadata": {
  "kernelspec": {
   "display_name": "Python 3 (ipykernel)",
   "language": "python",
   "name": "python3"
  },
  "language_info": {
   "codemirror_mode": {
    "name": "ipython",
    "version": 3
   },
   "file_extension": ".py",
   "mimetype": "text/x-python",
   "name": "python",
   "nbconvert_exporter": "python",
   "pygments_lexer": "ipython3",
   "version": "3.9.7"
  }
 },
 "nbformat": 4,
 "nbformat_minor": 5
}
