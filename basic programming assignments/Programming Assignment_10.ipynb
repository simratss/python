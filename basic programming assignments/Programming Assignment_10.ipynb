{
 "cells": [
  {
   "cell_type": "markdown",
   "id": "69c3a62b",
   "metadata": {},
   "source": [
    "# Programming Assignment_10"
   ]
  },
  {
   "cell_type": "code",
   "execution_count": 1,
   "id": "949d21dd",
   "metadata": {},
   "outputs": [
    {
     "data": {
      "text/plain": [
       "45"
      ]
     },
     "execution_count": 1,
     "metadata": {},
     "output_type": "execute_result"
    }
   ],
   "source": [
    "# 1. Write a Python program to find sum of elements in list?\n",
    "\n",
    "def sum_list(l):\n",
    "    \"\"\"\"Returns the sum of all the elements of the list\"\"\"\n",
    "    temp = 0\n",
    "    for val in l:\n",
    "        temp += val\n",
    "    return temp\n",
    "\n",
    "sum_list([1,2,3,4,5,6,7,8,9])"
   ]
  },
  {
   "cell_type": "code",
   "execution_count": 2,
   "id": "71b1396a",
   "metadata": {},
   "outputs": [
    {
     "data": {
      "text/plain": [
       "45"
      ]
     },
     "execution_count": 2,
     "metadata": {},
     "output_type": "execute_result"
    }
   ],
   "source": [
    "sum([1,2,3,4,5,6,7,8,9])"
   ]
  },
  {
   "cell_type": "code",
   "execution_count": 3,
   "id": "8b14c4f3",
   "metadata": {},
   "outputs": [
    {
     "data": {
      "text/plain": [
       "144"
      ]
     },
     "execution_count": 3,
     "metadata": {},
     "output_type": "execute_result"
    }
   ],
   "source": [
    "# 2. Write a Python program to Multiply all numbers in the list?\n",
    "\n",
    "def multiply_list(l):\n",
    "    \"\"\"Returns the multiplication of all the elements of the list\"\"\"\n",
    "    temp = 1\n",
    "    for val in l:\n",
    "        temp *= val\n",
    "    return temp\n",
    "\n",
    "multiply_list([2,3,6,4])"
   ]
  },
  {
   "cell_type": "code",
   "execution_count": 4,
   "id": "010c66a4",
   "metadata": {},
   "outputs": [
    {
     "data": {
      "text/plain": [
       "288"
      ]
     },
     "execution_count": 4,
     "metadata": {},
     "output_type": "execute_result"
    }
   ],
   "source": [
    "# 3. Write a Python program to find smallest number in a list?\n",
    "my_list = [459,1652,695,7862,288,545]\n",
    "\n",
    "def min_list(l):\n",
    "    \"\"\"Returns the smallest number in a list\"\"\"\n",
    "    smallest = l[-1]\n",
    "    for val in l:\n",
    "        if smallest > val:\n",
    "            smallest = val\n",
    "    return smallest\n",
    "\n",
    "min_list(my_list)"
   ]
  },
  {
   "cell_type": "code",
   "execution_count": 5,
   "id": "ca423342",
   "metadata": {},
   "outputs": [
    {
     "data": {
      "text/plain": [
       "288"
      ]
     },
     "execution_count": 5,
     "metadata": {},
     "output_type": "execute_result"
    }
   ],
   "source": [
    "min(my_list)"
   ]
  },
  {
   "cell_type": "code",
   "execution_count": 6,
   "id": "9ff4e8ba",
   "metadata": {},
   "outputs": [
    {
     "data": {
      "text/plain": [
       "7862"
      ]
     },
     "execution_count": 6,
     "metadata": {},
     "output_type": "execute_result"
    }
   ],
   "source": [
    "# 4. Write a Python program to find largest number in a list?\n",
    "\n",
    "def max_list(l):\n",
    "    \"\"\"Returns the largest number in a list\"\"\"\n",
    "    largest = 0\n",
    "    for val in l:\n",
    "        if val > largest:\n",
    "            largest = val\n",
    "    return largest\n",
    "\n",
    "max_list(my_list)"
   ]
  },
  {
   "cell_type": "code",
   "execution_count": 7,
   "id": "62ae2446",
   "metadata": {},
   "outputs": [
    {
     "data": {
      "text/plain": [
       "7862"
      ]
     },
     "execution_count": 7,
     "metadata": {},
     "output_type": "execute_result"
    }
   ],
   "source": [
    "max(my_list)"
   ]
  },
  {
   "cell_type": "code",
   "execution_count": 8,
   "id": "6db02651",
   "metadata": {},
   "outputs": [
    {
     "data": {
      "text/plain": [
       "1652"
      ]
     },
     "execution_count": 8,
     "metadata": {},
     "output_type": "execute_result"
    }
   ],
   "source": [
    "# 5. Write a Python program to find second largest number in a list?\n",
    "\n",
    "def second_max(l):\n",
    "    \"\"\"Returns the second largest number in a list\"\"\"\n",
    "    a = l\n",
    "    a.pop(a.index(max(a)))\n",
    "    return max(a)\n",
    "\n",
    "second_max(my_list)"
   ]
  },
  {
   "cell_type": "code",
   "execution_count": 9,
   "id": "c96f3d24",
   "metadata": {},
   "outputs": [
    {
     "name": "stdout",
     "output_type": "stream",
     "text": [
      "[465, 1323, 341, 1104, 669, 385, 233, 112, 1491, 249, 391, 516, 174, 921, 574, 459, 765, 1067, 649, 798, 619, 228, 641, 630]\n"
     ]
    },
    {
     "data": {
      "text/plain": [
       "[1491, 1323, 1104, 1067, 921, 798, 765, 669]"
      ]
     },
     "execution_count": 9,
     "metadata": {},
     "output_type": "execute_result"
    }
   ],
   "source": [
    "# 6. Write a Python program to find N largest elements from a list?\n",
    "import random\n",
    "my_list = [random.randint(100,1500) for i in range(24)]\n",
    "print(my_list)\n",
    "\n",
    "def n_largest(l, n):\n",
    "    \"\"\"Returns N largest elements as a list\"\"\"\n",
    "    temp = n\n",
    "    l_max = []\n",
    "    while temp:\n",
    "        n_max = max(l)\n",
    "        l_max.append(n_max)\n",
    "        l.remove(n_max)\n",
    "        temp -= 1\n",
    "    return l_max\n",
    "\n",
    "n_largest(my_list,8)"
   ]
  },
  {
   "cell_type": "code",
   "execution_count": 10,
   "id": "b77eca4f",
   "metadata": {},
   "outputs": [
    {
     "name": "stdout",
     "output_type": "stream",
     "text": [
      "[1090, 1383, 1432, 1460, 1338, 1358, 627, 782, 1399, 277, 923, 693, 201, 493, 1317, 131, 1355, 1341, 196, 1494, 253, 191, 577, 816]\n",
      "1494\n",
      "1460\n",
      "1432\n",
      "1399\n",
      "1383\n",
      "1358\n",
      "1355\n",
      "1341\n"
     ]
    }
   ],
   "source": [
    "# 6. Write a Python program to find N largest elements from a list?\n",
    "import random\n",
    "my_list = [random.randint(100,1500) for i in range(24)]\n",
    "print(my_list)\n",
    "\n",
    "def n_largest(l, n):\n",
    "    \"\"\"Print N largest elements from a list\"\"\"\n",
    "    temp = n\n",
    "    while temp:\n",
    "        n_max = max(l)\n",
    "        print(n_max)\n",
    "        l.pop(l.index(n_max))\n",
    "        temp -= 1\n",
    "\n",
    "n_largest(my_list,8)"
   ]
  },
  {
   "cell_type": "code",
   "execution_count": 11,
   "id": "d691a6fa",
   "metadata": {},
   "outputs": [
    {
     "name": "stdout",
     "output_type": "stream",
     "text": [
      "1414\n",
      "1338\n",
      "1306\n",
      "1300\n",
      "1233\n",
      "1156\n",
      "1109\n",
      "1064\n"
     ]
    }
   ],
   "source": [
    "n_largest([1233, 1306, 941, 1007, 1109, 210, 1156, 658, 630, 238, 445, 960, 719, 701, 1026, 810, 1300, 1338, 1414, 369, 1064, 652, 130, 209],8)"
   ]
  },
  {
   "cell_type": "code",
   "execution_count": 12,
   "id": "dc8040f7",
   "metadata": {},
   "outputs": [
    {
     "name": "stdout",
     "output_type": "stream",
     "text": [
      "[1463, 612, 902, 632, 300, 1140, 739, 580, 1348]\n",
      "612\n",
      "902\n",
      "632\n",
      "300\n",
      "1140\n",
      "580\n",
      "1348\n"
     ]
    }
   ],
   "source": [
    "# 7. Write a Python program to print even numbers in a list?\n",
    "import random\n",
    "my_list = [random.randint(100,1500) for i in range(9)]\n",
    "print(my_list)\n",
    "\n",
    "def even_list(l):\n",
    "    \"\"\"Print even numbers in a list\"\"\"\n",
    "    for item in l:\n",
    "        if item % 2 == 0:\n",
    "            print(item)\n",
    "            \n",
    "even_list(my_list)"
   ]
  },
  {
   "cell_type": "code",
   "execution_count": 13,
   "id": "4fba7bb3",
   "metadata": {},
   "outputs": [
    {
     "name": "stdout",
     "output_type": "stream",
     "text": [
      "[1412, 384, 951, 781, 711, 551, 848, 203, 654]\n",
      "951\n",
      "781\n",
      "711\n",
      "551\n",
      "203\n"
     ]
    }
   ],
   "source": [
    "# 8. Write a Python program to print odd numbers in a List?\n",
    "\n",
    "import random\n",
    "my_list = [random.randint(10,1500) for i in range(9)]\n",
    "print(my_list)\n",
    "\n",
    "def odd_list(l):\n",
    "    \"\"\"Print odd numbers in a list\"\"\"\n",
    "    for item in l:\n",
    "        if item % 2 != 0:\n",
    "            print(item)\n",
    "            \n",
    "odd_list(my_list)"
   ]
  },
  {
   "cell_type": "code",
   "execution_count": 14,
   "id": "d605a6b1",
   "metadata": {},
   "outputs": [
    {
     "data": {
      "text/plain": [
       "[[4, 5], 's', [1, 6], 4, 5, 6]"
      ]
     },
     "execution_count": 14,
     "metadata": {},
     "output_type": "execute_result"
    }
   ],
   "source": [
    "# 9. Write a Python program to Remove empty List from List?\n",
    "\n",
    "def remove_empty(l):\n",
    "    \"\"\"Returns list without any empty nested list\"\"\"\n",
    "    while [] in l:\n",
    "        l.remove([])\n",
    "    return l\n",
    "\n",
    "remove_empty([[],[4,5],'s',[],[],[],[],[],[],[1,6],4,[],5,6])"
   ]
  },
  {
   "cell_type": "code",
   "execution_count": 15,
   "id": "8fbd93fc",
   "metadata": {},
   "outputs": [
    {
     "data": {
      "text/plain": [
       "['s', 4, 8, 9, 0.5, (8+5j)]"
      ]
     },
     "execution_count": 15,
     "metadata": {},
     "output_type": "execute_result"
    }
   ],
   "source": [
    "# 10. Write a Python program to Cloning or Copying a list?\n",
    "def cloning(l):\n",
    "#     li_copy = l[:]\n",
    "    li_copy = [val for val in l]\n",
    "    return li_copy\n",
    "   \n",
    "l = ['s',4,8,9,0.5,8+5j]\n",
    "new_l = cloning(l)\n",
    "new_l"
   ]
  },
  {
   "cell_type": "code",
   "execution_count": 16,
   "id": "ee3f8176",
   "metadata": {},
   "outputs": [
    {
     "data": {
      "text/plain": [
       "3"
      ]
     },
     "execution_count": 16,
     "metadata": {},
     "output_type": "execute_result"
    }
   ],
   "source": [
    "# 11. Write a Python program to Count occurrences of an element in a list?\n",
    "\n",
    "def count_item(l, element):\n",
    "    \"\"\"Returns count of occurences of an element in a list\"\"\"\n",
    "    count = 0\n",
    "    while element in l:\n",
    "        count += 1\n",
    "        l.remove(element)\n",
    "    return count\n",
    "\n",
    "a = [848, 39, 1450, 39, 260, 1429, 425, 717, 39]\n",
    "count_item(a, 39)"
   ]
  }
 ],
 "metadata": {
  "kernelspec": {
   "display_name": "Python 3 (ipykernel)",
   "language": "python",
   "name": "python3"
  },
  "language_info": {
   "codemirror_mode": {
    "name": "ipython",
    "version": 3
   },
   "file_extension": ".py",
   "mimetype": "text/x-python",
   "name": "python",
   "nbconvert_exporter": "python",
   "pygments_lexer": "ipython3",
   "version": "3.9.7"
  }
 },
 "nbformat": 4,
 "nbformat_minor": 5
}
