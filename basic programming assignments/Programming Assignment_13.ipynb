{
 "cells": [
  {
   "cell_type": "markdown",
   "id": "71792a99",
   "metadata": {},
   "source": [
    "# Programming Assignment_13"
   ]
  },
  {
   "cell_type": "markdown",
   "id": "1f54c92b",
   "metadata": {},
   "source": [
    "Question 1:\n",
    "\n",
    "Write a program that calculates and prints the value according to the given formula:\n",
    "\n",
    "Q = Square root of [(2 * C * D)/H]\n",
    "\n",
    "Following are the fixed values of C and H:\n",
    "\n",
    "C is 50. H is 30.\n",
    "\n",
    "D is the variable whose values should be input to your program in a comma-separated sequence.\n",
    "\n",
    "Example\n",
    "\n",
    "Let us assume the following comma separated input sequence is given to the program:\n",
    "\n",
    "100,150,180\n",
    "\n",
    "The output of the program should be:\n",
    "\n",
    "18,22,24"
   ]
  },
  {
   "cell_type": "code",
   "execution_count": 1,
   "id": "b19736e6",
   "metadata": {},
   "outputs": [
    {
     "name": "stdout",
     "output_type": "stream",
     "text": [
      "Enter values in a comma separated sequence: 100,150,180\n",
      "18,22,24\n"
     ]
    }
   ],
   "source": [
    "def formula_q(C=50, D=[], H=30):\n",
    "    \"\"\"Returns Square root of [(2 * C * D)/H]\"\"\"\n",
    "    answer = [str(round(((2*50*int(val))/30)**0.5)) for val in D]\n",
    "    return \",\".join(answer)\n",
    "\n",
    "\n",
    "out = formula_q(D= input('Enter values in a comma separated sequence: ').split(','))\n",
    "print(out)\n",
    "\n"
   ]
  },
  {
   "cell_type": "markdown",
   "id": "505146cf",
   "metadata": {},
   "source": [
    "Question 2:\n",
    "\n",
    "Write a program which takes 2 digits, X,Y as input and generates a 2-dimensional array. The element value in the i-th row and j-th column of the array should be i*j.\n",
    "\n",
    "Note: i=0,1.., X-1; j=0,1,¡Y-1.\n",
    "\n",
    "Example\n",
    "\n",
    "Suppose the following inputs are given to the program:\n",
    "\n",
    "3,5\n",
    "\n",
    "Then, the output of the program should be:\n",
    "\n",
    "[[0, 0, 0, 0, 0], [0, 1, 2, 3, 4], [0, 2, 4, 6, 8]] "
   ]
  },
  {
   "cell_type": "code",
   "execution_count": 2,
   "id": "0152fe90",
   "metadata": {},
   "outputs": [
    {
     "name": "stdout",
     "output_type": "stream",
     "text": [
      "Enter X,Y separated by comma: 3,5\n"
     ]
    },
    {
     "data": {
      "text/plain": [
       "[[0, 0, 0, 0, 0], [0, 1, 2, 3, 4], [0, 2, 4, 6, 8]]"
      ]
     },
     "execution_count": 2,
     "metadata": {},
     "output_type": "execute_result"
    }
   ],
   "source": [
    "user = input('Enter X,Y separated by comma: ').split(',')\n",
    "\n",
    "\n",
    "def generate_2d_array(user_input):\n",
    "    if len(user_input) == 2:\n",
    "        X, Y = tuple(user_input)\n",
    "        return [[i*j for j in range(int(Y))] for i in range(int(X))]\n",
    "    else:\n",
    "        print('Wrong input')\n",
    "\n",
    "    \n",
    "generate_2d_array(user)"
   ]
  },
  {
   "cell_type": "markdown",
   "id": "4607d14b",
   "metadata": {},
   "source": [
    "Question 3:\n",
    "\n",
    "Write a program that accepts a comma separated sequence of words as input and prints the words in a comma-separated sequence after sorting them alphabetically.\n",
    "\n",
    "Suppose the following input is supplied to the program:\n",
    "\n",
    "without,hello,bag,world\n",
    "\n",
    "Then, the output should be:\n",
    "\n",
    "bag,hello,without,world"
   ]
  },
  {
   "cell_type": "code",
   "execution_count": 3,
   "id": "e10b3e54",
   "metadata": {},
   "outputs": [
    {
     "name": "stdout",
     "output_type": "stream",
     "text": [
      "Enter your text: without,hello,bag,world\n",
      "bag,hello,without,world\n"
     ]
    }
   ],
   "source": [
    "def sort_words(s):\n",
    "    l = s.split(',')\n",
    "    return \",\".join(sorted(l))\n",
    "\n",
    "\n",
    "s = input('Enter your text: ')\n",
    "print(sort_words(s))"
   ]
  },
  {
   "cell_type": "markdown",
   "id": "5b913aa9",
   "metadata": {},
   "source": [
    "Question 4:\n",
    "\n",
    "Write a program that accepts a sequence of whitespace separated words as input and prints the words after removing all duplicate words and sorting them alphanumerically.\n",
    "\n",
    "Suppose the following input is supplied to the program:\n",
    "\n",
    "hello world and practice makes perfect and hello world again\n",
    "\n",
    "Then, the output should be:\n",
    "\n",
    "again and hello makes perfect practice world"
   ]
  },
  {
   "cell_type": "code",
   "execution_count": 4,
   "id": "b4385390",
   "metadata": {},
   "outputs": [
    {
     "name": "stdout",
     "output_type": "stream",
     "text": [
      "Enter text separated by space: hello world and practice makes perfect and hello world again\n",
      "again and hello makes perfect practice world\n"
     ]
    }
   ],
   "source": [
    "def sort_words(list_1):\n",
    "    return \" \".join(sorted(list_1))\n",
    "\n",
    "\n",
    "def remove_duplicates(s):\n",
    "    l = s.lower().split()\n",
    "    sorted_words = sort_words(list(set(l)))\n",
    "    return sorted_words\n",
    "\n",
    "\n",
    "user = input('Enter text separated by space: ')\n",
    "\n",
    "print(remove_duplicates(user))"
   ]
  },
  {
   "cell_type": "markdown",
   "id": "3172c41a",
   "metadata": {},
   "source": [
    "Question 5:\n",
    "\n",
    "Write a program that accepts a sentence and calculate the number of letters and digits.\n",
    "\n",
    "Suppose the following input is supplied to the program:\n",
    "\n",
    "hello world! 123\n",
    "\n",
    "Then, the output should be:\n",
    "\n",
    "LETTERS 10\n",
    "\n",
    "DIGITS 3"
   ]
  },
  {
   "cell_type": "code",
   "execution_count": 5,
   "id": "489213fe",
   "metadata": {},
   "outputs": [
    {
     "name": "stdout",
     "output_type": "stream",
     "text": [
      "Enter your sentence: hello world! 123\n",
      "LETTERS 10\n",
      "DIGITS 3\n",
      "SPECIAL CHARACTERS 1\n"
     ]
    }
   ],
   "source": [
    "def count_letter_digits(string_1):\n",
    "    import string\n",
    "    letters = string.ascii_letters\n",
    "    numbers = string.digits\n",
    "    punc = string.punctuation\n",
    "    letter, digit, special_char = (0, 0, 0)\n",
    "    for char in string_1:\n",
    "        if char in letters:\n",
    "            letter += 1\n",
    "        elif char in numbers:\n",
    "            digit += 1\n",
    "        elif char in punc:\n",
    "            special_char += 1\n",
    "    return (letter, digit, special_char)\n",
    "\n",
    "\n",
    "count_letter, count_digit, count_punc = count_letter_digits(input(\"Enter your sentence: \"))\n",
    "print(f'LETTERS {count_letter}\\nDIGITS {count_digit}\\nSPECIAL CHARACTERS {count_punc}')\n",
    "    "
   ]
  },
  {
   "cell_type": "markdown",
   "id": "9a9bdd57",
   "metadata": {},
   "source": [
    "Question 6:\n",
    "\n",
    "A website requires the users to input username and password to register. Write a program to check the validity of password input by users.\n",
    "\n",
    "Following are the criteria for checking the password:\n",
    "\n",
    "1. At least 1 letter between [a-z]\n",
    "\n",
    "2. At least 1 number between [0-9]\n",
    "\n",
    "1. At least 1 letter between [A-Z]\n",
    "\n",
    "3. At least 1 character from [$#@]\n",
    "\n",
    "4. Minimum length of transaction password: 6\n",
    "\n",
    "5. Maximum length of transaction password: 12\n",
    "\n",
    "Your program should accept a sequence of comma separated passwords and will check them according to the above criteria. Passwords that match the criteria are to be printed, each separated by a comma.\n",
    "\n",
    "Example\n",
    "\n",
    "If the following passwords are given as input to the program:\n",
    "\n",
    "ABd1234@1,a F1#,2w3E*,2We3345\n",
    "\n",
    "Then, the output of the program should be:\n",
    "\n",
    "ABd1234@1\n"
   ]
  },
  {
   "cell_type": "code",
   "execution_count": 6,
   "id": "4528acd9",
   "metadata": {},
   "outputs": [
    {
     "name": "stdout",
     "output_type": "stream",
     "text": [
      "Enter passwords: ABd1234@1,a F1#,2w3E*,2We3345\n"
     ]
    },
    {
     "data": {
      "text/plain": [
       "'ABd1234@1'"
      ]
     },
     "execution_count": 6,
     "metadata": {},
     "output_type": "execute_result"
    }
   ],
   "source": [
    "def password_checker(list_l):\n",
    "    import string\n",
    "    lowercase = string.ascii_lowercase\n",
    "    uppercase = string.ascii_uppercase\n",
    "    numbers = string.digits\n",
    "    special_characters = '$#@'\n",
    "    l = []\n",
    "    for val in list_l:\n",
    "        if 5<len(val)<13:\n",
    "            if any(lower in val for lower in lowercase) and \\\n",
    "            any(upper in val for upper in uppercase) and \\\n",
    "            any(number in val for number in numbers) and \\\n",
    "            any(char in val for char in special_characters):\n",
    "                l.append(val)\n",
    "    return ''.join(l)\n",
    "\n",
    "\n",
    "u = input('Enter passwords: ').split(\",\")              \n",
    "password_checker(u)"
   ]
  }
 ],
 "metadata": {
  "kernelspec": {
   "display_name": "Python 3 (ipykernel)",
   "language": "python",
   "name": "python3"
  },
  "language_info": {
   "codemirror_mode": {
    "name": "ipython",
    "version": 3
   },
   "file_extension": ".py",
   "mimetype": "text/x-python",
   "name": "python",
   "nbconvert_exporter": "python",
   "pygments_lexer": "ipython3",
   "version": "3.9.7"
  }
 },
 "nbformat": 4,
 "nbformat_minor": 5
}
