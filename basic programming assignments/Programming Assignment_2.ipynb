{
 "cells": [
  {
   "cell_type": "markdown",
   "id": "13f95d87",
   "metadata": {},
   "source": [
    "# Programming Assignment_2"
   ]
  },
  {
   "cell_type": "code",
   "execution_count": 10,
   "id": "bf9474ad",
   "metadata": {},
   "outputs": [
    {
     "name": "stdout",
     "output_type": "stream",
     "text": [
      "Convert Kilometers to Miles\n",
      "Enter distance in Kilometers: 3\n",
      "3.0km is equal to 1.8641mi \n"
     ]
    }
   ],
   "source": [
    "# Write a Python program to convert kilometers to miles?\n",
    "print('Convert Kilometers to Miles')\n",
    "km = float(input('Enter distance in Kilometers: '))\n",
    "def km_to_mile(km):\n",
    "    return round((km * 0.62137119),4)\n",
    "miles = km_to_mile(km)\n",
    "print(f'{km}km is equal to {miles}mi ')"
   ]
  },
  {
   "cell_type": "code",
   "execution_count": 17,
   "id": "b33aaec6",
   "metadata": {},
   "outputs": [
    {
     "name": "stdout",
     "output_type": "stream",
     "text": [
      "Convert Celcius to Fahrenheit\n",
      "Enter temperature in Celcius: 37\n",
      "Temperature in Fahrenheit is 98.6F\n"
     ]
    }
   ],
   "source": [
    "# Write a Python program to convert Celsius to Fahrenheit?\n",
    "print('Convert Celcius to Fahrenheit')\n",
    "cel = float(input('Enter temperature in Celcius: '))\n",
    "def cel_to_far(c):\n",
    "    return round(((c*9)/5)+32,3)\n",
    "far = cel_to_far(cel)\n",
    "print(f'Temperature in Fahrenheit is {far}F')"
   ]
  },
  {
   "cell_type": "code",
   "execution_count": 26,
   "id": "18773147",
   "metadata": {},
   "outputs": [
    {
     "name": "stdout",
     "output_type": "stream",
     "text": [
      "Enter year: 2021\n",
      "Enter month: 12\n",
      "   December 2021\n",
      "Mo Tu We Th Fr Sa Su\n",
      "       1  2  3  4  5\n",
      " 6  7  8  9 10 11 12\n",
      "13 14 15 16 17 18 19\n",
      "20 21 22 23 24 25 26\n",
      "27 28 29 30 31\n",
      "\n"
     ]
    }
   ],
   "source": [
    "# Write a Python program to display calendar?\n",
    "import calendar\n",
    "year = int(input(\"Enter year: \"))\n",
    "month = int(input(\"Enter month: \"))\n",
    "if month != 0:\n",
    "    print(calendar.month(year, month))\n",
    "else:\n",
    "    print(calendar.calendar(year))"
   ]
  },
  {
   "cell_type": "code",
   "execution_count": 23,
   "id": "92668e41",
   "metadata": {},
   "outputs": [
    {
     "name": "stdout",
     "output_type": "stream",
     "text": [
      "Solve Quadratic Eqation \n",
      "Enter coefficients of equation separated with comma: 1,-3,10\n",
      "we get complex solutions.\n",
      "roots of this equation is [(1.5000000000000002+2.7838821814150108j), (1.4999999999999998-2.7838821814150108j)]\n"
     ]
    }
   ],
   "source": [
    "# Write a Python program to solve quadratic equation?\n",
    "print('Solve Quadratic Eqation ')\n",
    "def quad_solution():\n",
    "    a, b, c = map(int,input('Enter coefficients of equation separated with comma: ').split(\",\"))\n",
    "    discriminant = (b**2-4*a*c)\n",
    "    if  discriminant < 0:\n",
    "        root1, root2 = (-b + (discriminant)**0.5)/(2*a), (-b - (discriminant)**0.5)/(2*a)\n",
    "        print('we get complex solutions.')\n",
    "        return [root1, root2]\n",
    "    elif discriminant == 0:\n",
    "        root1 = (-b)/(2*a)\n",
    "        print('we get just ONE solution.')\n",
    "        return root1\n",
    "    else:\n",
    "        root1, root2 = (-b + (discriminant)**0.5)/(2*a), (-b - (discriminant)**0.5)/(2*a)\n",
    "        print('we get two real solutions.')\n",
    "        return [root1, root2]\n",
    "roots = quad_solution()\n",
    "print(f'roots of this equation is {roots}')"
   ]
  },
  {
   "cell_type": "code",
   "execution_count": 10,
   "id": "17353f73",
   "metadata": {},
   "outputs": [
    {
     "name": "stdout",
     "output_type": "stream",
     "text": [
      "Enter A and B separated with space: 4 9\n",
      "Original A was 4 & B was 9\n",
      "swapped A is 9 & B is 4\n"
     ]
    }
   ],
   "source": [
    "# Write a Python program to swap two variables without temp variable?\n",
    "a, b = map(int,input('Enter A and B separated with space: ').split(\" \"))\n",
    "def swap(a,b):\n",
    "    return b, a\n",
    "print(f'Original A was {a} & B was {b}')\n",
    "a,b = swap(a,b)\n",
    "print(f'swapped A is {a} & B is {b}')\n"
   ]
  },
  {
   "cell_type": "code",
   "execution_count": 3,
   "id": "4346d94a",
   "metadata": {},
   "outputs": [
    {
     "name": "stdout",
     "output_type": "stream",
     "text": [
      "Enter A and B separated with space: 5 9\n",
      "Original A was 5 & B was 9\n",
      "swapped A is 9 & B is 5\n"
     ]
    }
   ],
   "source": [
    "# Write a Python program to swap two variables without temp variable?\n",
    "a, b = map(int,input('Enter A and B separated with space: ').split(\" \"))\n",
    "print(f'Original A was {a} & B was {b}')\n",
    "a,b = b, a\n",
    "print(f'swapped A is {a} & B is {b}')\n"
   ]
  }
 ],
 "metadata": {
  "kernelspec": {
   "display_name": "Python 3 (ipykernel)",
   "language": "python",
   "name": "python3"
  },
  "language_info": {
   "codemirror_mode": {
    "name": "ipython",
    "version": 3
   },
   "file_extension": ".py",
   "mimetype": "text/x-python",
   "name": "python",
   "nbconvert_exporter": "python",
   "pygments_lexer": "ipython3",
   "version": "3.9.7"
  }
 },
 "nbformat": 4,
 "nbformat_minor": 5
}
