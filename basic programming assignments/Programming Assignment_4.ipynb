{
 "cells": [
  {
   "cell_type": "markdown",
   "id": "ee83f720",
   "metadata": {},
   "source": [
    "# Programming Assignment_4"
   ]
  },
  {
   "cell_type": "code",
   "execution_count": 3,
   "id": "d712ac5d",
   "metadata": {},
   "outputs": [
    {
     "name": "stdout",
     "output_type": "stream",
     "text": [
      "Enter a number to get factorial: 6\n"
     ]
    },
    {
     "data": {
      "text/plain": [
       "720"
      ]
     },
     "execution_count": 3,
     "metadata": {},
     "output_type": "execute_result"
    }
   ],
   "source": [
    "# 1 Write a Python Program to Find the Factorial of a Number?\n",
    "a = int(input('Enter a number to get factorial: '))\n",
    "def factorial(n):\n",
    "    f = 1\n",
    "    for i in range(1,a+1):\n",
    "        f *= i\n",
    "    return f\n",
    "factorial(a)\n"
   ]
  },
  {
   "cell_type": "code",
   "execution_count": 5,
   "id": "0d7b357e",
   "metadata": {},
   "outputs": [
    {
     "name": "stdout",
     "output_type": "stream",
     "text": [
      "Enter a number to see Multiplication Table5\n",
      "5 x 1 = 5\n",
      "5 x 2 = 10\n",
      "5 x 3 = 15\n",
      "5 x 4 = 20\n",
      "5 x 5 = 25\n",
      "5 x 6 = 30\n",
      "5 x 7 = 35\n",
      "5 x 8 = 40\n",
      "5 x 9 = 45\n",
      "5 x 10 = 50\n"
     ]
    }
   ],
   "source": [
    "# 2 Write a Python Program to Display the multiplication Table?\n",
    "a = int(input('Enter a number to see Multiplication Table'))\n",
    "def mul_table(n):\n",
    "    for i in range(1,11):\n",
    "        print(f'{n} x {i} = {n*i}')\n",
    "mul_table(a)"
   ]
  },
  {
   "cell_type": "code",
   "execution_count": 20,
   "id": "fa36d53f",
   "metadata": {},
   "outputs": [
    {
     "name": "stdout",
     "output_type": "stream",
     "text": [
      "Enter number of values which you want in Fibonacci series: 21\n",
      "The first 21 Fibonacci numbers are: \n",
      "[0, 1, 1, 2, 3, 5, 8, 13, 21, 34, 55, 89, 144, 233, 377, 610, 987, 1597, 2584, 4181, 6765]\n"
     ]
    }
   ],
   "source": [
    "# 3 Write a Python Program to Print the Fibonacci sequence?\n",
    "a = int(input('Enter number of values which you want in Fibonacci series: '))\n",
    "def fibonacci_series(n):\n",
    "    \"\"\"In mathematics, the Fibonacci numbers, commonly denoted F_n, form a sequence,\\\n",
    "    called the Fibonacci sequence, such that each number is the \\\n",
    "    sum of the two preceding ones, starting from 0 and 1. \"\"\"\n",
    "    print(f'The first {n} Fibonacci numbers are: ')\n",
    "    l = [0,1]\n",
    "    while len(l) < n:\n",
    "        l.append(l[-1]+l[-2])\n",
    "    return l\n",
    "fib = fibonacci_series(a)\n",
    "print(fib)"
   ]
  },
  {
   "cell_type": "code",
   "execution_count": 26,
   "id": "98d2f969",
   "metadata": {},
   "outputs": [
    {
     "name": "stdout",
     "output_type": "stream",
     "text": [
      "Enter number of values which you want in Fibonacci series: 10\n",
      "The first 10 Fibonacci numbers are: \n",
      "[0, 1, 1, 2, 3, 5, 8, 13, 21, 34]\n",
      "The 10th Fibonacci number is 34\n"
     ]
    }
   ],
   "source": [
    "# 3 Write a Python Program to Print the Fibonacci sequence and number?\n",
    "a = int(input('Enter number of values which you want in Fibonacci series: '))\n",
    "def fibonacci_series(n):\n",
    "    \"\"\"In mathematics, the Fibonacci numbers, commonly denoted F_n, form a sequence,\\\n",
    "    called the Fibonacci sequence, such that each number is the \\\n",
    "    sum of the two preceding ones, starting from 0 and 1. \"\"\"\n",
    "    print(f'The first {n} Fibonacci numbers are: ')\n",
    "    l = [0,1]\n",
    "    while len(l) < n:\n",
    "        l.append(l[-1]+l[-2])\n",
    "    return l, l[n-1]\n",
    "fib_series, number = fibonacci_series(a)\n",
    "print(fib_series)\n",
    "print(f'The {a}th Fibonacci number is {number}')"
   ]
  },
  {
   "cell_type": "code",
   "execution_count": 41,
   "id": "a5cdb509",
   "metadata": {},
   "outputs": [
    {
     "name": "stdout",
     "output_type": "stream",
     "text": [
      "Enter a number to check whether it is an Armstrong number or not: 9474\n",
      "9474 is an Armstrong number\n"
     ]
    }
   ],
   "source": [
    "# 4 Write a Python Program to Check Armstrong Number?\n",
    "a = input('Enter a number to check whether it is an Armstrong number or not: ')\n",
    "def check_armstrong(n):\n",
    "    '''An armstrong number is a positive integer of base n,\n",
    "    and the sum of each digit of the Armstrong number \n",
    "    of order n is equal to the number itself'''\n",
    "    l = len(n)\n",
    "    s = 0\n",
    "    for i in range(l):\n",
    "        s += int(n[i])**l\n",
    "    if int(n) == s:\n",
    "        print(f'{n} is an Armstrong number')\n",
    "    else:\n",
    "        print(f'{n} is not an Armstrong number')\n",
    "check_armstrong(a)"
   ]
  },
  {
   "cell_type": "markdown",
   "id": "e4a78c8c",
   "metadata": {},
   "source": [
    "https://mathworld.wolfram.com/NarcissisticNumber.html\n",
    "* as per this above website, 0,1,2,3,4,5,6,7,8,9 are also Armstrong numbers"
   ]
  },
  {
   "cell_type": "code",
   "execution_count": 44,
   "id": "48f4d969",
   "metadata": {},
   "outputs": [
    {
     "name": "stdout",
     "output_type": "stream",
     "text": [
      "Enter a number upto which you want to find Armstrong Number: 10000\n",
      "[0, 1, 2, 3, 4, 5, 6, 7, 8, 9, 153, 370, 371, 407, 1634, 8208, 9474]\n"
     ]
    }
   ],
   "source": [
    "# 5 Write a Python Program to Find Armstrong Number in an Interval?\n",
    "a = int(input('Enter a number upto which you want to find Armstrong Number: '))\n",
    "def armstrong_num(n):\n",
    "    armstrong_list = []\n",
    "    for i in range(a):\n",
    "        i = str(i)\n",
    "        l = len(i)\n",
    "        s = 0\n",
    "        for j in range(l):\n",
    "            s += int(i[j])**l\n",
    "        if int(i) == s:\n",
    "            armstrong_list.append(int(i))\n",
    "        else:\n",
    "            pass\n",
    "    return armstrong_list\n",
    "print(armstrong_num(a))\n"
   ]
  },
  {
   "cell_type": "code",
   "execution_count": 48,
   "id": "49becf70",
   "metadata": {},
   "outputs": [
    {
     "name": "stdout",
     "output_type": "stream",
     "text": [
      "Enter a number of n natural numbers to find sum: 10\n",
      "sum of 1st 10 natural numbers is: 55.0\n"
     ]
    }
   ],
   "source": [
    "# 6 Write a Python Program to Find the Sum of Natural Numbers?\n",
    "a = int(input('Enter a number of n natural numbers to find sum: '))\n",
    "def sum_natural(n):\n",
    "    return n*(n+1)/2\n",
    "print(f'sum of 1st {a} natural numbers is: {sum_natural(a)}')"
   ]
  }
 ],
 "metadata": {
  "kernelspec": {
   "display_name": "Python 3 (ipykernel)",
   "language": "python",
   "name": "python3"
  },
  "language_info": {
   "codemirror_mode": {
    "name": "ipython",
    "version": 3
   },
   "file_extension": ".py",
   "mimetype": "text/x-python",
   "name": "python",
   "nbconvert_exporter": "python",
   "pygments_lexer": "ipython3",
   "version": "3.9.7"
  }
 },
 "nbformat": 4,
 "nbformat_minor": 5
}
