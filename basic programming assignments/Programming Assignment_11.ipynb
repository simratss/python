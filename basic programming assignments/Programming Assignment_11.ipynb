{
 "cells": [
  {
   "cell_type": "markdown",
   "id": "5fbe23d9",
   "metadata": {},
   "source": [
    "# Programming Assignment_11"
   ]
  },
  {
   "cell_type": "code",
   "execution_count": 23,
   "id": "5654b53d",
   "metadata": {},
   "outputs": [
    {
     "name": "stdout",
     "output_type": "stream",
     "text": [
      "Hello\n",
      "Python\n",
      "program\n"
     ]
    }
   ],
   "source": [
    "# 1. Write a Python program to find words which are greater than given length k?\n",
    "\n",
    "def find_words(a_string, k):\n",
    "    import string\n",
    "    s = list(a_string)\n",
    "    for char in s:\n",
    "        if char in string.punctuation:\n",
    "            s.remove(char)\n",
    "    for word in \"\".join(s).split():\n",
    "        if len(word)>k:\n",
    "            print(word)\n",
    "\n",
    "s = list(\"Hel'lo, This; is a Python! program.\")\n",
    "find_words(s,4)"
   ]
  },
  {
   "cell_type": "code",
   "execution_count": 28,
   "id": "4e6fa5b5",
   "metadata": {},
   "outputs": [
    {
     "data": {
      "text/plain": [
       "'Hell This is a python program'"
      ]
     },
     "execution_count": 28,
     "metadata": {},
     "output_type": "execute_result"
    }
   ],
   "source": [
    "# 2. Write a Python program for removing i-th character from a string?\n",
    "\n",
    "def remove_character(a_string, i):\n",
    "    l = list(a_string)\n",
    "    l.remove(l[i-1])\n",
    "    return \"\".join(l)\n",
    "\n",
    "remove_character(\"Hello This is a python program\", 5)"
   ]
  },
  {
   "cell_type": "code",
   "execution_count": 5,
   "id": "b15b6011",
   "metadata": {},
   "outputs": [
    {
     "name": "stdout",
     "output_type": "stream",
     "text": [
      "['S', 'i', 'm', 'r', 'a', 't', 'p', 'a', 'l', ' ', 'S', 'i', 'n', 'g', 'h', ' ', 'S', 'y', 'a', 'n']\n",
      "Simratpal Singh Syan\n"
     ]
    }
   ],
   "source": [
    "# 3. Write a Python program to split and join a string?\n",
    "\n",
    "def split_str(my_string):\n",
    "    \"\"\"Return splitted string as a list\"\"\"\n",
    "    str_list = [letter for letter in my_string]\n",
    "    return str_list\n",
    "\n",
    "def join_str(my_list):\n",
    "    \"\"\"Returns concatenated string\"\"\"\n",
    "    my_str = \"\"\n",
    "    for val in my_list:\n",
    "        my_str += str(val)\n",
    "    return my_str\n",
    "    \n",
    "s = 'Simratpal Singh Syan'\n",
    "st_list = split_str(s)\n",
    "print(st_list)\n",
    "st_join = join_str(st_list)\n",
    "print(st_join)"
   ]
  },
  {
   "cell_type": "code",
   "execution_count": 56,
   "id": "da0cee78",
   "metadata": {},
   "outputs": [
    {
     "data": {
      "text/plain": [
       "True"
      ]
     },
     "execution_count": 56,
     "metadata": {},
     "output_type": "execute_result"
    }
   ],
   "source": [
    "# 4. Write a Python to check if a given string is binary string or not?\n",
    "\n",
    "def is_binary_string(a_string):\n",
    "    l = list(set(list(a_string)))\n",
    "    str_01 = '01'\n",
    "    return all(char in str_01 for char in l) \n",
    "\n",
    "is_binary_string('1101')"
   ]
  },
  {
   "cell_type": "code",
   "execution_count": 7,
   "id": "d6735c0d",
   "metadata": {},
   "outputs": [
    {
     "data": {
      "text/plain": [
       "['defined', 'is', 'we', 'this', 'program', 'have', 'function']"
      ]
     },
     "execution_count": 7,
     "metadata": {},
     "output_type": "execute_result"
    }
   ],
   "source": [
    "# 5. Write a Python program to find uncommon words from two Strings?\n",
    "\n",
    "def uncommon_str(str_1, str_2):\n",
    "    \"\"\"Return uncommon words as list\"\"\"\n",
    "    l1 = str_1.lower().split()\n",
    "    l2 = str_2.lower().split()\n",
    "    str_list = list(set(l1 + l2))\n",
    "    uncommon_word = [word for word in str_list if word not in l1 or word not in l2]\n",
    "    return uncommon_word\n",
    "    \n",
    "s = 'This is a Python program to find uncommon words'\n",
    "s2 = 'We have defined a python function to find uncommon words'\n",
    "uncommon_str(s,s2)"
   ]
  },
  {
   "cell_type": "code",
   "execution_count": 36,
   "id": "d14df277",
   "metadata": {},
   "outputs": [
    {
     "data": {
      "text/plain": [
       "['p', 'g', 'r', 'i', 'n', 'm', 'o']"
      ]
     },
     "execution_count": 36,
     "metadata": {},
     "output_type": "execute_result"
    }
   ],
   "source": [
    "# 6. Write a Python to find all duplicate characters in string?\n",
    "\n",
    "def find_duplicates(str_1):\n",
    "    l = list(str_1.lower())\n",
    "    s = set(l)\n",
    "    duplicates = {char: l.count(char) for char in s}\n",
    "    nl = [key for key, value in duplicates.items() if value > 1 and key != ' ']\n",
    "    return nl\n",
    "\n",
    "find_duplicates('Python programming is fun')"
   ]
  },
  {
   "cell_type": "code",
   "execution_count": 61,
   "id": "3e2fcd0b",
   "metadata": {},
   "outputs": [
    {
     "data": {
      "text/plain": [
       "True"
      ]
     },
     "execution_count": 61,
     "metadata": {},
     "output_type": "execute_result"
    }
   ],
   "source": [
    "# 7. Write a Python Program to check if a string contains any special character?\n",
    "\n",
    "def is_any_special_char(a_string):\n",
    "    import string\n",
    "    return any(char in string.punctuation for char in a_string)\n",
    "\n",
    "is_any_special_char('Hello@')"
   ]
  }
 ],
 "metadata": {
  "kernelspec": {
   "display_name": "Python 3 (ipykernel)",
   "language": "python",
   "name": "python3"
  },
  "language_info": {
   "codemirror_mode": {
    "name": "ipython",
    "version": 3
   },
   "file_extension": ".py",
   "mimetype": "text/x-python",
   "name": "python",
   "nbconvert_exporter": "python",
   "pygments_lexer": "ipython3",
   "version": "3.9.7"
  }
 },
 "nbformat": 4,
 "nbformat_minor": 5
}
