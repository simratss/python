{
 "cells": [
  {
   "cell_type": "markdown",
   "id": "0c9c22bb",
   "metadata": {},
   "source": [
    "# Assignment 1"
   ]
  },
  {
   "cell_type": "raw",
   "id": "fd8215ec",
   "metadata": {},
   "source": [
    "1. In the below elements which of them are values or an expression? eg:- values can be integer or string and expressions will be mathematical operators.\n",
    "*\n",
    "\n",
    "'hello'\n",
    "\n",
    "-87.8\n",
    "\n",
    "-\n",
    "\n",
    "/\n",
    "\n",
    "+\n",
    "\n",
    "6"
   ]
  },
  {
   "cell_type": "raw",
   "id": "ff0206bd",
   "metadata": {},
   "source": [
    "* is a mathematical operator, which is used for multiplication of two numerical variables.\n",
    "e.g. x = 5, y=10, x*y = 50, or\n",
    "in case of str and int variable, it will concatenate str variable.\n",
    "x = 'abc', y = 5, x*y = 'abcabcabcabcabc'"
   ]
  },
  {
   "cell_type": "raw",
   "id": "132b5ed2",
   "metadata": {},
   "source": [
    "'hello' is a str variable in python"
   ]
  },
  {
   "cell_type": "raw",
   "id": "4cf40738",
   "metadata": {},
   "source": [
    "-87.8 is float type variable"
   ]
  },
  {
   "cell_type": "raw",
   "id": "de84131e",
   "metadata": {},
   "source": [
    "- is a mathematical operator, which is used for subtraction of two numerical variables.\n",
    "x,y = 10,5\n",
    "x-y = 5"
   ]
  },
  {
   "cell_type": "raw",
   "id": "d2920fb6",
   "metadata": {},
   "source": [
    "/ is a mathematical operator, which is used for division of two variables. it will return a float type variable.\n",
    "e.g.\n",
    "x,y = 10,5\n",
    "x/y = 2.0"
   ]
  },
  {
   "cell_type": "raw",
   "id": "ee894957",
   "metadata": {},
   "source": [
    "+ is a mathematical operator, which is used for addition of two variables.\n",
    "x,y = 10,5\n",
    "x+y = 15"
   ]
  },
  {
   "cell_type": "raw",
   "id": "4c55e424",
   "metadata": {},
   "source": [
    "6 is a int type variable in python "
   ]
  },
  {
   "cell_type": "markdown",
   "id": "d32742c2",
   "metadata": {},
   "source": [
    "2. What is the difference between string and variable?\n",
    "\n",
    "A string is a literal(i.e. type of values in python) which can be stored in a variable(or identifier)\n",
    "\n",
    "while variable is a name given to entities like class, functions etc which can store values in memory. It helps to diffrentiate one entity from other\n",
    "e.g\n",
    "name = 'Simrat'\n",
    "age = 28\n",
    "\n",
    "A variable can hold a string but string cannot hold a variable"
   ]
  },
  {
   "cell_type": "markdown",
   "id": "2db052c8",
   "metadata": {},
   "source": [
    "3. Describe three different data types.\n",
    "\n",
    "* String\n",
    "* Numeric(integer or float or complex)\n",
    "* Boolean\n",
    "* List\n",
    "* Tuples\n",
    "* Strings\n",
    "* Dictionary"
   ]
  },
  {
   "cell_type": "markdown",
   "id": "c8001eaa",
   "metadata": {},
   "source": [
    "4. What is an expression made up of? What do all expressions do?\n",
    "\n",
    "An expression is a combination of values, variables i.e. operands and operators."
   ]
  },
  {
   "cell_type": "markdown",
   "id": "c4e99b48",
   "metadata": {},
   "source": [
    "5. This assignment statements, like spam = 10. What is the difference between an expression and a statement?\n"
   ]
  },
  {
   "cell_type": "markdown",
   "id": "1331e0fd",
   "metadata": {},
   "source": [
    "6. After running the following code, what does the variable bacon contain?\n",
    "\n",
    "bacon = 22\n",
    "\n",
    "bacon + 1\n",
    "\n",
    "22 value is stored in bacon variable, because we haven't assigned any new value to the variable bacon"
   ]
  },
  {
   "cell_type": "markdown",
   "id": "c9611453",
   "metadata": {},
   "source": [
    "7. What should the values of the following two terms be?\n",
    "\n",
    "'spam' + 'spamspam' = 'spamspamspam'\n",
    "\n",
    "'spam' * 3 = 'spamspamspam'"
   ]
  },
  {
   "cell_type": "markdown",
   "id": "3f95bcf1",
   "metadata": {},
   "source": [
    "8. Why is eggs a valid variable name while 100 is invalid?\n",
    "\n",
    "This is because of Python's variable naming convention which is explained below.\n",
    "In python, we have some naming conventions:\n",
    "1. we cannot use any spaces in between the variable name.\n",
    "    \n",
    "    e.g. last name = 'syan', will give invalid syntax error, so we will use _.\n",
    "         last_name = 'syan' is correct.\n",
    "\n",
    "2. python is a case sensitive language.\n",
    "    \n",
    "    e.g name = 'simrat', print(Name) will give error, as name and Name are both diffrent variables.\n",
    "\n",
    "3. reserved keywords like is, for, def, class, cannot be used as variable names.\n",
    "\n",
    "4. variable name cannot start with a number.\n",
    "    \n",
    "    e.g. 100 variable name is invalied, but we can use var100, or v100 or v_100.\n",
    "    \n",
    "5. cannot use any other symbol expect _(underscore) in variable name."
   ]
  },
  {
   "cell_type": "markdown",
   "id": "ec3ca676",
   "metadata": {},
   "source": [
    "9. What three functions can be used to get the integer, floating-point number, or string version of a value?\n",
    "\n",
    "We can use the following in-built functions:\n",
    "\n",
    "int() to get interger version of a value.\n",
    "\n",
    "float() to get floating-point number version of a value\n",
    "\n",
    "str() to get string version of a value"
   ]
  },
  {
   "cell_type": "markdown",
   "id": "749c77af",
   "metadata": {},
   "source": [
    "10. Why does this expression cause an error? How can you fix it?\n",
    "\n",
    "'I have eaten' + 99 + 'burritos'\n",
    "\n",
    "This expression cause an error because we cannot add a string value and numeric(int) value in python i.e. we cannot concatenate string and int by using + operator.\n",
    "We can fix this error by converting 99 into string by using str() function.\n",
    "\n",
    "'I have eaten' + str(99) + 'burritos'"
   ]
  }
 ],
 "metadata": {
  "kernelspec": {
   "display_name": "Python 3 (ipykernel)",
   "language": "python",
   "name": "python3"
  },
  "language_info": {
   "codemirror_mode": {
    "name": "ipython",
    "version": 3
   },
   "file_extension": ".py",
   "mimetype": "text/x-python",
   "name": "python",
   "nbconvert_exporter": "python",
   "pygments_lexer": "ipython3",
   "version": "3.9.7"
  }
 },
 "nbformat": 4,
 "nbformat_minor": 5
}
