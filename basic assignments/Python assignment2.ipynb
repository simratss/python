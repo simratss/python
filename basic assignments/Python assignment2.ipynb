{
 "cells": [
  {
   "cell_type": "markdown",
   "id": "7b92ae0a",
   "metadata": {},
   "source": [
    "# Assignment 2"
   ]
  },
  {
   "cell_type": "markdown",
   "id": "e0b86f8d",
   "metadata": {},
   "source": [
    "1.What are the two values of the Boolean data type? How do you write them?\n",
    "* Two values of Boolean data types are True and False.\n",
    "* We start writing them with first letter uppercase and rest lower, i.e. \n",
    "    * True or False \n",
    "    * not true or false or TRUE or FALSE, because python is a case senstive language. \n",
    "\n",
    "2. What are the three different types of Boolean operators?\n",
    "* and -->\n",
    "    * a and b --> returns True if both statements(a & b) are true.\n",
    "* or\n",
    "    * a or b --> returns True if either of statement is true\n",
    "* not\n",
    "    * reverse the result, i.e. returns True if result of statements is False."
   ]
  },
  {
   "cell_type": "markdown",
   "id": "16e02280",
   "metadata": {},
   "source": [
    "3. Make a list of each Boolean operator's truth tables (i.e. every possible combination of Boolean values for the operator and what it evaluate )."
   ]
  },
  {
   "cell_type": "code",
   "execution_count": 37,
   "id": "f0010469",
   "metadata": {
    "scrolled": true
   },
   "outputs": [
    {
     "name": "stdout",
     "output_type": "stream",
     "text": [
      "And Table\n",
      "       a      b    and\n",
      "0   True   True   True\n",
      "1   True  False  False\n",
      "2  False   True  False\n",
      "3  False  False  False\n",
      "*************************\n",
      "\n",
      "OR Table\n",
      "       a      b     or\n",
      "0   True   True   True\n",
      "1   True  False   True\n",
      "2  False   True   True\n",
      "3  False  False  False\n",
      "*************************\n",
      "\n",
      "Not Table\n",
      "       a  Not_a\n",
      "0   True  False\n",
      "1  False   True\n",
      "*************************\n"
     ]
    }
   ],
   "source": [
    "import pandas as pd\n",
    "import numpy as np\n",
    "a = np.array([True,True,False,False])\n",
    "b = np.array([True,False,True,False])\n",
    "a_and_b = np.array([a[i] and b[i] for i in range(len(a))])\n",
    "df_and = pd.DataFrame(a,columns=['a'])\n",
    "df_and['b'], df_and['and'] = b, a_and_b\n",
    "print('And Table')\n",
    "print(df_and)\n",
    "print('*'*25)\n",
    "a_or_b = np.array([a[i] or b[i] for i in range(len(a))])\n",
    "df_or = pd.DataFrame(a,columns=['a'])\n",
    "df_or['b'], df_or['or'] = b, a_or_b\n",
    "print('\\nOR Table')\n",
    "print(df_or)\n",
    "print('*'*25)\n",
    "a = np.array([True,False])\n",
    "not_a = np.array([not(a[i]) for i in range(len(a))])\n",
    "df_not = pd.DataFrame(a,columns=['a'])\n",
    "df_not['Not_a'] = not_a\n",
    "print('\\nNot Table')\n",
    "print(df_not)\n",
    "print('*'*25)"
   ]
  },
  {
   "cell_type": "markdown",
   "id": "5086d3fd",
   "metadata": {},
   "source": [
    "4. What are the values of the following expressions?\n",
    "* 5 > 4) and (3 == 5) = False\n",
    "* not (5 > 4) = False\n",
    "* (5 > 4) or (3 == 5) = True\n",
    "* not ((5 > 4) or (3 == 5)) = False\n",
    "* (True and True) and (True == False) = False\n",
    "* (not False) or (not True) = True"
   ]
  },
  {
   "cell_type": "markdown",
   "id": "c193a38f",
   "metadata": {},
   "source": [
    "5. What are the six comparison operators?\n",
    "* The below mentioned comparison operator in quotation marks will return Boolean values when used to compare two values.\n",
    "* '==', is used to compare if a is equal to b\n",
    "* '<', is used to compare if a is less than b\n",
    "* '>', is used to compare if a is greater than b\n",
    "* '>=', is used to compare if a is equal to or greater than b\n",
    "* '<=', is used to compare if a is equal to or less than b\n",
    "* '!=', is used to compare if a is not equal to b.\n"
   ]
  },
  {
   "cell_type": "markdown",
   "id": "76e8be02",
   "metadata": {},
   "source": [
    "6. How do you tell the difference between the equal to and assignment operators? Describe a condition and when you would use one.\n",
    "* in python equal to is denoted by '==' while assignment operator is denoted by '='.\n",
    "\n",
    "let's suppose the number guessing game, here we will use assignment operator i.e. '=' to assign values to comp, chance and user, and then we will use '==' equal to comparison operator to see whether the user has guessed right or wrong"
   ]
  },
  {
   "cell_type": "code",
   "execution_count": 1,
   "id": "55d97f81",
   "metadata": {},
   "outputs": [
    {
     "name": "stdout",
     "output_type": "stream",
     "text": [
      "Number Guessing Game \n",
      "Start!\n",
      "You have 3 chance\n",
      "Enter a number in the 1-10: 5\n",
      "Hint! your guess is less than the number\n",
      "You have 2 chance left\n",
      "Enter a number in the 1-10: 6\n",
      "Hint! your guess is less than the number\n",
      "You have 1 chance left\n",
      "Enter a number in the 1-10: 8\n",
      "Hint! your guess is less than the number\n",
      "You have 0 chance left\n",
      "You have lost!\n"
     ]
    }
   ],
   "source": [
    "import random\n",
    "comp = random.randint(1,10)\n",
    "# print(comp)\n",
    "chance = 3\n",
    "print('Number Guessing Game \\nStart!')\n",
    "print(f'You have {chance} chance')\n",
    "while chance:\n",
    "    user = int(input('Enter a number in the 1-10: '))\n",
    "    if user == comp:\n",
    "        print('you have won')\n",
    "        break\n",
    "    elif user > comp:\n",
    "        print('Hint! your guess is greater than the number')\n",
    "        chance -= 1\n",
    "        print(f'You have {chance} chance left')\n",
    "    elif user < comp:\n",
    "        print('Hint! your guess is less than the number')\n",
    "        chance -= 1\n",
    "        print(f'You have {chance} chance left')\n",
    "if chance == 0:\n",
    "    print('You have lost!')"
   ]
  },
  {
   "cell_type": "markdown",
   "id": "5b4ebd29",
   "metadata": {},
   "source": [
    "7. Identify the three blocks in this code:"
   ]
  },
  {
   "cell_type": "code",
   "execution_count": 2,
   "id": "4ce7799d",
   "metadata": {},
   "outputs": [
    {
     "name": "stdout",
     "output_type": "stream",
     "text": [
      "ham\n",
      "spam\n",
      "spam\n"
     ]
    }
   ],
   "source": [
    "spam = 0\n",
    "# if block 1\n",
    "if spam == 10:\n",
    "    print('eggs')\n",
    "# if block 2\n",
    "if spam > 5:\n",
    "    print('bacon')\n",
    "# else block\n",
    "else:\n",
    "    print('ham')\n",
    "    print('spam')\n",
    "    print('spam')"
   ]
  },
  {
   "cell_type": "markdown",
   "id": "b2f64fd9",
   "metadata": {},
   "source": [
    "8. Write code that prints Hello if 1 is stored in spam, prints Howdy if 2 is stored in spam, and prints Greetings! if anything else is stored in spam."
   ]
  },
  {
   "cell_type": "code",
   "execution_count": 3,
   "id": "857691f5",
   "metadata": {},
   "outputs": [
    {
     "name": "stdout",
     "output_type": "stream",
     "text": [
      "Enter a number: 2\n",
      "Howdy\n"
     ]
    }
   ],
   "source": [
    "spam = int(input('Enter a number: '))\n",
    "if spam == 1:\n",
    "    print('Hello')\n",
    "elif spam == 2:\n",
    "    print('Howdy')\n",
    "else:\n",
    "    print('Greetings!')"
   ]
  },
  {
   "cell_type": "markdown",
   "id": "e4a29385",
   "metadata": {},
   "source": [
    "9. If your programme is stuck in an endless loop, what keys you’ll press?\n",
    "\n",
    "We can use Ctrl + C key to get out of the endless loop"
   ]
  },
  {
   "cell_type": "markdown",
   "id": "3ede01a9",
   "metadata": {},
   "source": [
    "10. How can you tell the difference between break and continue?\n",
    "\n",
    "The main difference is that we will use break when we want to get out of the loop i.e. terminate the loop even when conditions for loop(while or for loop) are True. On the other hand, we use continue terminate the current iteration and resumes the control to the next iteration of the loop."
   ]
  },
  {
   "cell_type": "markdown",
   "id": "2721eccc",
   "metadata": {},
   "source": [
    "11. In a for loop, what is the difference between range(10), range(0, 10), and range(0, 10, 1)?\n",
    "There is no difference between range(10), range(0, 10), and range(0, 10, 1) in a for loop.\n",
    "* range(10) means upto 10 not including 10, as index in python starts from 0, so whether we provide starting point 0 or not, it will create 10 iterations in for loop from 0 to 9.\n",
    "* range(0, 10) same as above, only difference is starting point 0 is given here.\n",
    "* range(0, 10, 1) same as above, only difference is here step size is given i.e. 1, means to iterate loop from 0 to 9 with a step of 1."
   ]
  },
  {
   "cell_type": "markdown",
   "id": "5811d065",
   "metadata": {},
   "source": [
    "12. Write a short program that prints the numbers 1 to 10 using a for loop. Then write an equivalent program that prints the numbers 1 to 10 using a while loop."
   ]
  },
  {
   "cell_type": "code",
   "execution_count": 4,
   "id": "a4210bd2",
   "metadata": {},
   "outputs": [
    {
     "name": "stdout",
     "output_type": "stream",
     "text": [
      "1\n",
      "2\n",
      "3\n",
      "4\n",
      "5\n",
      "6\n",
      "7\n",
      "8\n",
      "9\n",
      "10\n"
     ]
    }
   ],
   "source": [
    "for i in range(1,11):\n",
    "    print(i) # in next line\n",
    "#     print(i, end=' ') # in same line"
   ]
  },
  {
   "cell_type": "code",
   "execution_count": 5,
   "id": "d4db0a5e",
   "metadata": {},
   "outputs": [
    {
     "name": "stdout",
     "output_type": "stream",
     "text": [
      "1 2 3 4 5 6 7 8 9 10 "
     ]
    }
   ],
   "source": [
    "a = 1\n",
    "while True:\n",
    "    if a < 11:\n",
    "        # print(a) # in next line\n",
    "        print(a, end=' ') # in same line\n",
    "        a += 1\n",
    "    else:\n",
    "        break"
   ]
  },
  {
   "cell_type": "markdown",
   "id": "af0a12f7",
   "metadata": {},
   "source": [
    "13. If you had a function named bacon() inside a module named spam, how would you call it after importing spam?\n",
    "\n",
    "import spam\n",
    "\n",
    "spam.bacon()\n",
    "\n",
    "or we can use import statement other way around\n",
    "\n",
    "from spam import bacon\n",
    "\n",
    "bacon()"
   ]
  }
 ],
 "metadata": {
  "kernelspec": {
   "display_name": "Python 3 (ipykernel)",
   "language": "python",
   "name": "python3"
  },
  "language_info": {
   "codemirror_mode": {
    "name": "ipython",
    "version": 3
   },
   "file_extension": ".py",
   "mimetype": "text/x-python",
   "name": "python",
   "nbconvert_exporter": "python",
   "pygments_lexer": "ipython3",
   "version": "3.9.7"
  }
 },
 "nbformat": 4,
 "nbformat_minor": 5
}
