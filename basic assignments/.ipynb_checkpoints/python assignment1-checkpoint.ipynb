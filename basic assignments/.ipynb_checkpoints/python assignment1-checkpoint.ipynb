{
 "cells": [
  {
   "cell_type": "markdown",
   "id": "0c9c22bb",
   "metadata": {},
   "source": [
    "# Assignment 1"
   ]
  },
  {
   "cell_type": "markdown",
   "id": "e38da354",
   "metadata": {},
   "source": [
    "1. In the below elements which of them are values or an expression? eg:- values can be integer or string and expressions will be mathematical operators.\n",
    "\n",
    "*\n",
    "\n",
    "'hello'\n",
    "\n",
    "-87.8\n",
    "\n",
    "-\n",
    "\n",
    "/\n",
    "\n",
    "+\n",
    "\n",
    "6\n",
    "\n",
    ". * is a mathematical operator, which is used for multiplication of two numerical variables.\n",
    "\n",
    "e.g. x = 5, y=10, x*y = 50, or\n",
    "\n",
    "in case of str and int variable, it will concatenate str variable.\n",
    "\n",
    "x = 'abc', y = 5, x*y = 'abcabcabcabcabc'\n",
    "\n",
    "'hello' is a str value in python\n",
    "\n",
    "-87.8 is float type value\n",
    "\n",
    ". - is a mathematical operator, which is used for subtraction of two numerical variables.\n",
    "\n",
    "x,y = 10,5\n",
    "\n",
    "x-y = 5\n",
    "\n",
    "/ is a mathematical operator, which is used for division of two variables. it will return a float type variable.\n",
    "e.g.\n",
    "\n",
    "x,y = 10,5\n",
    "\n",
    "x/y = 2.0\n",
    "\n",
    ". + is a mathematical operator, which is used for addition of two variables.\n",
    "\n",
    "x,y = 10,5\n",
    "\n",
    "x+y = 15\n",
    "\n",
    "6 is a int type value in python "
   ]
  },
  {
   "cell_type": "markdown",
   "id": "d32742c2",
   "metadata": {},
   "source": [
    "2. What is the difference between string and variable?\n",
    "\n",
    "A string is a literal(i.e. type of values in python) which can be stored in a variable(or identifier) as it contains a 'string' of letters and are enclosed in quotation marks. e.g. 'Hello'.\n",
    "\n",
    "while variable is a name given to entities like class, functions etc which can store values in memory. It helps to diffrentiate one entity from other\n",
    "e.g\n",
    "name = 'Simrat'\n",
    "age = 28\n",
    "\n",
    "A variable can hold a string but string cannot hold a variable"
   ]
  },
  {
   "cell_type": "markdown",
   "id": "2db052c8",
   "metadata": {},
   "source": [
    "3. Describe three different data types.\n",
    "\n",
    "* String\n",
    "    * e.g. 'hello world!', 'Simrat', 'python'\n",
    "* Numeric(integer or float or complex)\n",
    "    * int --> 1, 54, 999\n",
    "    * floating point number --> 0.17, 3.141\n",
    "    * complex --> 5 + 57j\n",
    "* Boolean\n",
    "    * e.g. True, False\n",
    "* List\n",
    "    * are mutable objects in python\n",
    "    * e.g. [8,2.14,'hello','5+57j']\n",
    "* Tuples\n",
    "    * are immutable\n",
    "    * e.g. (1,4,15.4,58)\n",
    "* Set\n",
    "    * e.g. {1,4,5,8}\n",
    "* Dictionary\n",
    "    * key values pair.\n",
    "    * e.g. {'Name' : ['Simrat','Python'],\n",
    "            'Age' : [28,30],\n",
    "            'Id' : [101, 102]\n",
    "            }"
   ]
  },
  {
   "cell_type": "markdown",
   "id": "c8001eaa",
   "metadata": {},
   "source": [
    "4. What is an expression made up of? What do all expressions do?\n",
    "\n",
    "An expression is a combination of values, variables i.e. operands and operators that is interpreted to produce a new value.\n",
    "e.g. Arithmetic expressions like a+b, a-b, a*b, a/b, a//b etc."
   ]
  },
  {
   "cell_type": "markdown",
   "id": "c4e99b48",
   "metadata": {},
   "source": [
    "5. This assignment statements, like spam = 10. What is the difference between an expression and a statement?\n",
    "\n",
    "A statement is an instruction that the Python interpreter can execute, means it represent an action or command. e.g. print statement, assignment statement, conditional statements etc. \n",
    "\n",
    "while an expression is a combination of operands and operators, it is a legal statmenent that create a result vaue i.e. can be reduced to a value.\n",
    "e.g. 1+3 will give 4 in python interpreter."
   ]
  },
  {
   "cell_type": "markdown",
   "id": "1331e0fd",
   "metadata": {},
   "source": [
    "6. After running the following code, what does the variable bacon contain?\n",
    "\n",
    "bacon = 22\n",
    "\n",
    "bacon + 1\n",
    "\n",
    "value 22 is stored in bacon variable, because we haven't assigned any new value to the variable bacon in second line."
   ]
  },
  {
   "cell_type": "markdown",
   "id": "c9611453",
   "metadata": {},
   "source": [
    "7. What should the values of the following two terms be?\n",
    "\n",
    "'spam' + 'spamspam' = 'spamspamspam'\n",
    "\n",
    "'spam' * 3 = 'spamspamspam'"
   ]
  },
  {
   "cell_type": "markdown",
   "id": "3f95bcf1",
   "metadata": {},
   "source": [
    "8. Why is eggs a valid variable name while 100 is invalid?\n",
    "\n",
    "This is because of Python's variable naming convention which is explained below.\n",
    "In python, we have some naming conventions:\n",
    "1. we cannot use any spaces in between the variable name.\n",
    "    \n",
    "    e.g. last name = 'syan', will give invalid syntax error, so we will use _.\n",
    "         last_name = 'syan' is correct.\n",
    "\n",
    "2. python is a case sensitive language.\n",
    "    \n",
    "    e.g name = 'simrat', print(Name) will give error, as name and Name are both diffrent variables.\n",
    "\n",
    "3. reserved keywords like is, for, def, class, cannot be used as variable names.\n",
    "\n",
    "4. variable name cannot start with a number.\n",
    "    \n",
    "    e.g. 100 variable name is invalied, but we can use var100, or v100 or v_100.\n",
    "    \n",
    "5. cannot use any other symbol expect _(underscore) in variable name."
   ]
  },
  {
   "cell_type": "markdown",
   "id": "ec3ca676",
   "metadata": {},
   "source": [
    "9. What three functions can be used to get the integer, floating-point number, or string version of a value?\n",
    "\n",
    "We can use the following in-built functions:\n",
    "\n",
    "int() to get interger version of a value.\n",
    "\n",
    "float() to get floating-point number version of a value\n",
    "\n",
    "str() to get string version of a value"
   ]
  },
  {
   "cell_type": "markdown",
   "id": "749c77af",
   "metadata": {},
   "source": [
    "10. Why does this expression cause an error? How can you fix it?\n",
    "\n",
    "'I have eaten' + 99 + 'burritos'\n",
    "\n",
    "This expression cause an error because we cannot add a string value and numeric(int) value in python i.e. we cannot concatenate string and int by using + operator.\n",
    "We can fix this error by converting 99 into string by using str() function.\n",
    "\n",
    "'I have eaten' + str(99) + 'burritos'"
   ]
  }
 ],
 "metadata": {
  "kernelspec": {
   "display_name": "Python 3 (ipykernel)",
   "language": "python",
   "name": "python3"
  },
  "language_info": {
   "codemirror_mode": {
    "name": "ipython",
    "version": 3
   },
   "file_extension": ".py",
   "mimetype": "text/x-python",
   "name": "python",
   "nbconvert_exporter": "python",
   "pygments_lexer": "ipython3",
   "version": "3.9.7"
  }
 },
 "nbformat": 4,
 "nbformat_minor": 5
}
