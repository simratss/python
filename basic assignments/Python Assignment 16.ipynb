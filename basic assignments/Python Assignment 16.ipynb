{
 "cells": [
  {
   "cell_type": "markdown",
   "id": "6b755781",
   "metadata": {},
   "source": [
    "# Python Assignment 16"
   ]
  },
  {
   "cell_type": "markdown",
   "id": "141d0150",
   "metadata": {},
   "source": [
    "1. Create a list called years_list, starting with the year of your birth, and each year thereafter until the year of your fifth birthday. For example, if you were born in 1980. the list would be years_list = [1980, 1981, 1982, 1983, 1984, 1985]."
   ]
  },
  {
   "cell_type": "code",
   "execution_count": 2,
   "id": "23c8aedf",
   "metadata": {},
   "outputs": [
    {
     "name": "stdout",
     "output_type": "stream",
     "text": [
      "[1993, 1994, 1995, 1996, 1997, 1998]\n"
     ]
    }
   ],
   "source": [
    "years_list = [i for i in range(1993,1999)]\n",
    "print(years_list)"
   ]
  },
  {
   "cell_type": "markdown",
   "id": "4198d785",
   "metadata": {},
   "source": [
    "2. In which year in years_list was your third birthday? Remember, you were 0 years of age for your first year.\n",
    "\n",
    "years_list[3] i.e. 1996"
   ]
  },
  {
   "cell_type": "markdown",
   "id": "93a4562e",
   "metadata": {},
   "source": [
    "3.In the years list, which year were you the oldest?\n",
    "\n",
    "years_list[-1] or years_list[len(years_list)-1] or 1998"
   ]
  },
  {
   "cell_type": "markdown",
   "id": "a1e9ed1d",
   "metadata": {},
   "source": [
    "4. Make a list called things with these three strings as elements: \"mozzarella\", \"cinderella\", \"salmonella\".\n",
    "\n",
    "things = [\"mozzarella\", \"cinderella\", \"salmonella\"]"
   ]
  },
  {
   "cell_type": "markdown",
   "id": "95149cc9",
   "metadata": {},
   "source": [
    "5. Capitalize the element in things that refers to a person and then print the list. Did it change the element in the list?\n",
    "\n",
    "No, because we haven't assigned capitalized element to the position of that element in the list."
   ]
  },
  {
   "cell_type": "markdown",
   "id": "5d60b78d",
   "metadata": {},
   "source": [
    "6. Make a surprise list with the elements \"Groucho,\" \"Chico,\" and \"Harpo.\"\n",
    "\n",
    "surprise_list = [\"Groucho\", \"Chico\", \"Harpo\"]\n"
   ]
  },
  {
   "cell_type": "markdown",
   "id": "860d8aab",
   "metadata": {},
   "source": [
    "7. Lowercase the last element of the surprise list, reverse it, and then capitalize it.\n"
   ]
  },
  {
   "cell_type": "code",
   "execution_count": 11,
   "id": "863a9bf0",
   "metadata": {},
   "outputs": [
    {
     "data": {
      "text/plain": [
       "'OPRAH'"
      ]
     },
     "execution_count": 11,
     "metadata": {},
     "output_type": "execute_result"
    }
   ],
   "source": [
    "surprise_list = [\"Groucho\", \"Chico\", \"Harpo\"]\n",
    "surprise_list[-1].lower()[::-1].upper()"
   ]
  },
  {
   "cell_type": "markdown",
   "id": "eec02306",
   "metadata": {},
   "source": [
    "8. Make an English-to-French dictionary called e2f and print it. Here are your starter words: dog is chien, cat is chat, and walrus is morse.\n",
    "\n",
    "```\n",
    "e2f = {\n",
    "        'dog': 'chien',\n",
    "        'cat': 'chat',\n",
    "        'walrus': 'morse',\n",
    "}\n",
    "```"
   ]
  },
  {
   "cell_type": "code",
   "execution_count": 15,
   "id": "1ea5ec24",
   "metadata": {},
   "outputs": [
    {
     "name": "stdout",
     "output_type": "stream",
     "text": [
      "{'dog': 'chien', 'cat': 'chat', 'walrus': 'morse'}\n"
     ]
    }
   ],
   "source": [
    "e2f = {\n",
    "        'dog': 'chien',\n",
    "        'cat': 'chat',\n",
    "        'walrus': 'morse',\n",
    "}\n",
    "print(e2f)"
   ]
  },
  {
   "cell_type": "markdown",
   "id": "2400d7f0",
   "metadata": {},
   "source": [
    "9. Write the French word for walrus in your three-word dictionary e2f.\n",
    "\n",
    "`e2f['walrus']`"
   ]
  },
  {
   "cell_type": "code",
   "execution_count": 13,
   "id": "ccc34183",
   "metadata": {},
   "outputs": [
    {
     "data": {
      "text/plain": [
       "'morse'"
      ]
     },
     "execution_count": 13,
     "metadata": {},
     "output_type": "execute_result"
    }
   ],
   "source": [
    "e2f['walrus']"
   ]
  },
  {
   "cell_type": "markdown",
   "id": "79912cc6",
   "metadata": {},
   "source": [
    "10. Make a French-to-English dictionary called f2e from e2f. Use the items method."
   ]
  },
  {
   "cell_type": "code",
   "execution_count": 14,
   "id": "e6127a5a",
   "metadata": {},
   "outputs": [
    {
     "name": "stdout",
     "output_type": "stream",
     "text": [
      "{'chien': 'dog', 'chat': 'cat', 'morse': 'walrus'}\n"
     ]
    }
   ],
   "source": [
    "f2e = {french: english for (english,french) in e2f.items()}\n",
    "print(f2e)"
   ]
  },
  {
   "cell_type": "markdown",
   "id": "926d3c5f",
   "metadata": {},
   "source": [
    "11. Print the English version of the French word chien using f2e.\n"
   ]
  },
  {
   "cell_type": "code",
   "execution_count": 16,
   "id": "be6fb4fa",
   "metadata": {},
   "outputs": [
    {
     "data": {
      "text/plain": [
       "'dog'"
      ]
     },
     "execution_count": 16,
     "metadata": {},
     "output_type": "execute_result"
    }
   ],
   "source": [
    "f2e['chien']"
   ]
  },
  {
   "cell_type": "markdown",
   "id": "78f70bcc",
   "metadata": {},
   "source": [
    "12. Make and print a set of English words from the keys in e2f.\n"
   ]
  },
  {
   "cell_type": "code",
   "execution_count": 18,
   "id": "660224b3",
   "metadata": {},
   "outputs": [
    {
     "name": "stdout",
     "output_type": "stream",
     "text": [
      "{'cat', 'dog', 'walrus'}\n",
      "<class 'set'>\n"
     ]
    }
   ],
   "source": [
    "eng_set = set(word for word in e2f)\n",
    "print(eng_set)\n",
    "print(type(eng_set))"
   ]
  },
  {
   "cell_type": "markdown",
   "id": "afdaa3ba",
   "metadata": {},
   "source": [
    "13. Make a multilevel dictionary called life. Use these strings for the topmost keys: 'animals', 'plants', and 'other'. Make the 'animals' key refer to another dictionary with the keys 'cats', 'octopi', and 'emus'. Make the 'cats' key refer to a list of strings with the values 'Henri', 'Grumpy', and 'Lucy'. Make all the other keys refer to empty dictionaries.\n"
   ]
  },
  {
   "cell_type": "code",
   "execution_count": 20,
   "id": "360ccd10",
   "metadata": {},
   "outputs": [],
   "source": [
    "life = {\n",
    "    'animals': {\n",
    "        'cats':['Henri','Grumpy', 'Lucy'],\n",
    "        'octopi':{},\n",
    "        'emus':{},\n",
    "    },\n",
    "    'plants': {},\n",
    "    'other': {},\n",
    "}"
   ]
  },
  {
   "cell_type": "markdown",
   "id": "69029bbc",
   "metadata": {},
   "source": [
    "14. Print the top-level keys of life."
   ]
  },
  {
   "cell_type": "code",
   "execution_count": 21,
   "id": "dc9fda3a",
   "metadata": {},
   "outputs": [
    {
     "name": "stdout",
     "output_type": "stream",
     "text": [
      "animals\n",
      "plants\n",
      "other\n"
     ]
    }
   ],
   "source": [
    "for key in life:\n",
    "    print(key)"
   ]
  },
  {
   "cell_type": "markdown",
   "id": "befa452e",
   "metadata": {},
   "source": [
    "15. Print the keys for life['animals']."
   ]
  },
  {
   "cell_type": "code",
   "execution_count": 22,
   "id": "a5bb8ca0",
   "metadata": {},
   "outputs": [
    {
     "name": "stdout",
     "output_type": "stream",
     "text": [
      "cats\n",
      "octopi\n",
      "emus\n"
     ]
    }
   ],
   "source": [
    "for key in life['animals']:\n",
    "    print(key)"
   ]
  },
  {
   "cell_type": "markdown",
   "id": "891e7f83",
   "metadata": {},
   "source": [
    "16. Print the values for life['animals']['cats']"
   ]
  },
  {
   "cell_type": "code",
   "execution_count": 23,
   "id": "a601a7e0",
   "metadata": {},
   "outputs": [
    {
     "name": "stdout",
     "output_type": "stream",
     "text": [
      "Henri\n",
      "Grumpy\n",
      "Lucy\n"
     ]
    }
   ],
   "source": [
    "for name in life['animals']['cats']:\n",
    "    print(name)"
   ]
  },
  {
   "cell_type": "code",
   "execution_count": 25,
   "id": "a559d280",
   "metadata": {},
   "outputs": [
    {
     "name": "stdout",
     "output_type": "stream",
     "text": [
      "['Henri', 'Grumpy', 'Lucy']\n"
     ]
    }
   ],
   "source": [
    "for key in life['animals']:\n",
    "    if key == 'cats':\n",
    "        print(life['animals'][key])"
   ]
  }
 ],
 "metadata": {
  "kernelspec": {
   "display_name": "Python 3 (ipykernel)",
   "language": "python",
   "name": "python3"
  },
  "language_info": {
   "codemirror_mode": {
    "name": "ipython",
    "version": 3
   },
   "file_extension": ".py",
   "mimetype": "text/x-python",
   "name": "python",
   "nbconvert_exporter": "python",
   "pygments_lexer": "ipython3",
   "version": "3.9.7"
  }
 },
 "nbformat": 4,
 "nbformat_minor": 5
}
