{
 "cells": [
  {
   "cell_type": "markdown",
   "id": "4bd3fd63",
   "metadata": {},
   "source": [
    "# Advanced Programming Assignment_1"
   ]
  },
  {
   "cell_type": "markdown",
   "id": "a828106c",
   "metadata": {},
   "source": [
    "Question 1. \n",
    "\n",
    "Write a function that takes a list of lists and returns the value of all of the symbols in it, where each symbol adds or takes something from the total score. Symbol values:\n",
    "```\n",
    "# = 5\n",
    "O = 3\n",
    "X = 1\n",
    "! = -1\n",
    "!! = -3\n",
    "!!! = -5\n",
    "\n",
    "A list of lists containing 2 #s, a O, and a !!! would equal (0 + 5 + 5 + 3 - 5) 8.\n",
    "\n",
    "If the final score is negative, return 0 (e.g. 3 #s, 3 !!s, 2 !!!s and a X would be (0 + 5 + 5 + 5 - 3 - 3 - 3 - 5 - 5 + 1) -3, so return 0.\n",
    "\n",
    "Examples\n",
    "\n",
    "check_score([\n",
    "  [\"#\", \"!\"],\n",
    "  [\"!!\", \"X\"]\n",
    "]) ➞ 2\n",
    "\n",
    "check_score([\n",
    "  [\"!!!\", \"O\", \"!\"],\n",
    "  [\"X\", \"#\", \"!!!\"],\n",
    "  [\"!!\", \"X\", \"O\"]\n",
    "]) ➞ 0\n",
    "```"
   ]
  },
  {
   "cell_type": "code",
   "execution_count": 1,
   "id": "5eb868fe",
   "metadata": {},
   "outputs": [
    {
     "data": {
      "text/plain": [
       "2"
      ]
     },
     "execution_count": 1,
     "metadata": {},
     "output_type": "execute_result"
    }
   ],
   "source": [
    "def check_score(a_list):\n",
    "    my_dict = {'#': 5,\n",
    "               'O': 3,\n",
    "               'X': 1,\n",
    "               '!': -1,\n",
    "               '!!': -3,\n",
    "               '!!!': -5\n",
    "              }\n",
    "    s = 0\n",
    "    for val in a_list:\n",
    "        if type(val)==list:\n",
    "            for value in val:\n",
    "                if my_dict.get(value) in my_dict.values():\n",
    "                    s += my_dict.get(value)\n",
    "                else:\n",
    "                    return 'Kindly Enter nested list with above stated symbols' \n",
    "    return s\n",
    "\n",
    "check_score([\n",
    "  [\"#\", \"!\"],\n",
    "  [\"!!\", \"X\"]\n",
    "])    "
   ]
  },
  {
   "cell_type": "code",
   "execution_count": 2,
   "id": "503a3cf9",
   "metadata": {},
   "outputs": [
    {
     "data": {
      "text/plain": [
       "'Kindly Enter nested list with above stated symbols'"
      ]
     },
     "execution_count": 2,
     "metadata": {},
     "output_type": "execute_result"
    }
   ],
   "source": [
    "check_score([\n",
    "  [\"4\", \"!\"],\n",
    "  [\"!!\", \"X\"]\n",
    "])    "
   ]
  },
  {
   "cell_type": "code",
   "execution_count": 3,
   "id": "5c6b7fbb",
   "metadata": {},
   "outputs": [
    {
     "data": {
      "text/plain": [
       "-1"
      ]
     },
     "execution_count": 3,
     "metadata": {},
     "output_type": "execute_result"
    }
   ],
   "source": [
    "check_score([\n",
    "  [\"!!!\", \"O\", \"!\"],\n",
    "  [\"X\", \"#\", \"!!!\"],\n",
    "  [\"!!\", \"X\", \"O\"]\n",
    "])"
   ]
  },
  {
   "cell_type": "markdown",
   "id": "b896d247",
   "metadata": {},
   "source": [
    "Question 2. \n",
    "\n",
    "Create a function that takes a variable number of arguments, each argument representing the number of items in a group, and returns the number of permutations (combinations) of items that you could get by taking one item from each group.\n",
    "\n",
    "Examples\n",
    "\n",
    "combinations(2, 3) ➞ 6\n",
    "\n",
    "combinations(3, 7, 4) ➞ 84\n",
    "\n",
    "combinations(2, 3, 4, 5) ➞ 120\n"
   ]
  },
  {
   "cell_type": "code",
   "execution_count": 4,
   "id": "b3bb3e80",
   "metadata": {},
   "outputs": [
    {
     "data": {
      "text/plain": [
       "84"
      ]
     },
     "execution_count": 4,
     "metadata": {},
     "output_type": "execute_result"
    }
   ],
   "source": [
    "def combinations(*args):\n",
    "    t = (args)\n",
    "    if len(t)>1:\n",
    "        p = 1\n",
    "        for value in t:\n",
    "            p *= value\n",
    "        return p\n",
    "    else:\n",
    "        return t[0]\n",
    "    \n",
    "combinations(3,7,4)"
   ]
  },
  {
   "cell_type": "markdown",
   "id": "eb404f12",
   "metadata": {},
   "source": [
    "Question 3. \n",
    "\n",
    "Create a function that takes a string as an argument and returns the Morse code equivalent.\n",
    "\n",
    "Examples\n",
    "\n",
    "encode_morse(\"EDABBIT CHALLENGE\") ➞ \". -.. .- -... -... .. -   -.-. .... .- .-.. .-.. . -. --. .\"\n",
    "\n",
    "encode_morse(\"HELP ME !\") ➞ \".... . .-.. .--.   -- .   -.-.--\"\n",
    "\n",
    "This dictionary can be used for coding:\n",
    "\n",
    "char_to_dots = {\n",
    "  'A': '.-', 'B': '-...', 'C': '-.-.', 'D': '-..', 'E': '.', 'F': '..-.',\n",
    "  'G': '--.', 'H': '....', 'I': '..', 'J': '.---', 'K': '-.-', 'L': '.-..',\n",
    "  'M': '--', 'N': '-.', 'O': '---', 'P': '.--.', 'Q': '--.-', 'R': '.-.',\n",
    "  'S': '...', 'T': '-', 'U': '..-', 'V': '...-', 'W': '.--', 'X': '-..-',\n",
    "  'Y': '-.--', 'Z': '--..', ' ': ' ', '0': '-----',\n",
    "  '1': '.----', '2': '..---', '3': '...--', '4': '....-', '5': '.....',\n",
    "  '6': '-....', '7': '--...', '8': '---..', '9': '----.',\n",
    "  '&': '.-...', \"'\": '.----.', '@': '.--.-.', ')': '-.--.-', '(': '-.--.',\n",
    "  ':': '---...', ',': '--..--', '=': '-...-', '!': '-.-.--', '.': '.-.-.-',\n",
    "  '-': '-....-', '+': '.-.-.', '\"': '.-..-.', '?': '..--..', '/': '-..-.'\n",
    "}\n"
   ]
  },
  {
   "cell_type": "code",
   "execution_count": 5,
   "id": "11204dc7",
   "metadata": {},
   "outputs": [],
   "source": [
    "CHAR_TO_DOTS = { \n",
    "                'A': '.-', 'B': '-...', 'C': '-.-.', 'D': '-..', \n",
    "                'E': '.', 'F': '..-.', 'G': '--.', 'H': '....', \n",
    "                'I': '..', 'J': '.---', 'K': '-.-', 'L': '.-..', \n",
    "                'M': '--', 'N': '-.', 'O': '---', 'P': '.--.', \n",
    "                'Q': '--.-', 'R': '.-.', 'S': '...', 'T': '-', \n",
    "                'U': '..-', 'V': '...-', 'W': '.--', \n",
    "                'X': '-..-', 'Y': '-.--', 'Z': '--..', \n",
    "                ' ': ' ', '0': '-----', '1': '.----', '2': '..---', \n",
    "                '3': '...--', '4': '....-', '5': '.....', '6': '-....', \n",
    "                '7': '--...', '8': '---..', '9': '----.', '&': '.-...', \n",
    "                \"'\": '.----.', '@': '.--.-.', ')': '-.--.-', \n",
    "                '(': '-.--.', ':': '---...', ',': '--..--', \n",
    "                '=': '-...-', '!': '-.-.--', '.': '.-.-.-', \n",
    "                '-': '-....-', '+': '.-.-.', '\"': '.-..-.', \n",
    "                '?': '..--..', '/': '-..-.' \n",
    "}"
   ]
  },
  {
   "cell_type": "code",
   "execution_count": 6,
   "id": "9ba34126",
   "metadata": {},
   "outputs": [
    {
     "data": {
      "text/plain": [
       "'.... . .-.. .--.   -- .   -.-.--'"
      ]
     },
     "execution_count": 6,
     "metadata": {},
     "output_type": "execute_result"
    }
   ],
   "source": [
    "def encode_morse(a_string):\n",
    "    global CHAR_TO_DOTS\n",
    "    l = [CHAR_TO_DOTS[char] if char in CHAR_TO_DOTS.keys() else char for char in a_string.upper()]\n",
    "    return \" \".join(l)\n",
    "\n",
    "help_me = encode_morse(\"HELP ME !\")  \n",
    "help_me"
   ]
  },
  {
   "cell_type": "code",
   "execution_count": 7,
   "id": "a4fb7d8c",
   "metadata": {},
   "outputs": [
    {
     "data": {
      "text/plain": [
       "True"
      ]
     },
     "execution_count": 7,
     "metadata": {},
     "output_type": "execute_result"
    }
   ],
   "source": [
    "s = \".... . .-.. .--.   -- .   -.-.--\"\n",
    "help_me == s"
   ]
  },
  {
   "cell_type": "code",
   "execution_count": 8,
   "id": "3c32c27d",
   "metadata": {},
   "outputs": [
    {
     "data": {
      "text/plain": [
       "True"
      ]
     },
     "execution_count": 8,
     "metadata": {},
     "output_type": "execute_result"
    }
   ],
   "source": [
    "s = '. -.. .- -... -... .. -   -.-. .... .- .-.. .-.. . -. --. .'\n",
    "encode_morse(\"EDABBIT CHALLENGE\") == s"
   ]
  },
  {
   "cell_type": "markdown",
   "id": "2daf2d4f",
   "metadata": {},
   "source": [
    "Question 4.  \n",
    "\n",
    "Write a function that takes a number and returns True if it's a prime; False otherwise. The number can be 2^64-1 (2 to the power of 63, not XOR). With the standard technique it would be O(2^64-1), which is much too large for the 10 second time limit.\n",
    "\n",
    "Examples\n",
    "\n",
    "prime(7) ➞ True\n",
    "\n",
    "prime(56963) ➞ True\n",
    "\n",
    "prime(5151512515524) ➞ False"
   ]
  },
  {
   "cell_type": "code",
   "execution_count": 9,
   "id": "79e857d4",
   "metadata": {},
   "outputs": [
    {
     "name": "stdout",
     "output_type": "stream",
     "text": [
      "False\n",
      "Duration: 0:00:00.000999\n"
     ]
    }
   ],
   "source": [
    "from datetime import datetime\n",
    "start_time = datetime.now()\n",
    "\n",
    "def prime(n):\n",
    "    m = 10**9+7\n",
    "    if n > m:\n",
    "        n %= m\n",
    "    if n > 1:\n",
    "        for i in range(2,n):\n",
    "            if (n%i) == 0:\n",
    "                return False\n",
    "        else:\n",
    "            return True\n",
    "    else:\n",
    "        return False\n",
    "\n",
    "print(prime(18446744073709551615))\n",
    "\n",
    "end_time = datetime.now()\n",
    "print('Duration: {}'.format(end_time - start_time))"
   ]
  },
  {
   "cell_type": "markdown",
   "id": "166d13d0",
   "metadata": {},
   "source": [
    "Question 5.  \n",
    "Create a function that converts a word to a bitstring and then to a boolean list based on the following criteria:\n",
    "\n",
    "    1. Locate the position of the letter in the English alphabet (from 1 to 26).\n",
    "    2. Odd positions will be represented as 1 and 0 otherwise.\n",
    "    3. Convert the represented positions to boolean values, 1 for True and 0 for False.\n",
    "    4. Store the conversions into an array.\n",
    "```\n",
    "Examples\n",
    "\n",
    "to_boolean_list(\"deep\") ➞ [False, True, True, False]\n",
    "# deep converts to 0110\n",
    "# d is the 4th alphabet - 0\n",
    "# e is the 5th alphabet - 1\n",
    "# e is the 5th alphabet - 1\n",
    "# p is the 16th alphabet - 0\n",
    "\n",
    "to_boolean_list(\"loves\") ➞ [False, True, False, True, True]\n",
    "\n",
    "to_boolean_list(\"tesh\") ➞ [False, True, True, False]\n",
    "```\n"
   ]
  },
  {
   "cell_type": "code",
   "execution_count": 10,
   "id": "44ebd018",
   "metadata": {},
   "outputs": [
    {
     "data": {
      "text/plain": [
       "[False, True, True, False]"
      ]
     },
     "execution_count": 10,
     "metadata": {},
     "output_type": "execute_result"
    }
   ],
   "source": [
    "def to_boolean_list(a_string):\n",
    "    import string\n",
    "    lower = string.ascii_lowercase\n",
    "    l = [ (lower.index(val)) % 2 == 0 for val in a_string]\n",
    "    return l\n",
    "\n",
    "to_boolean_list(\"deep\")"
   ]
  },
  {
   "cell_type": "code",
   "execution_count": 11,
   "id": "7a4cdf52",
   "metadata": {},
   "outputs": [
    {
     "data": {
      "text/plain": [
       "[False, True, False, True, True]"
      ]
     },
     "execution_count": 11,
     "metadata": {},
     "output_type": "execute_result"
    }
   ],
   "source": [
    "to_boolean_list(\"loves\")"
   ]
  },
  {
   "cell_type": "code",
   "execution_count": 12,
   "id": "16d1783b",
   "metadata": {},
   "outputs": [
    {
     "data": {
      "text/plain": [
       "[False, True, True, False]"
      ]
     },
     "execution_count": 12,
     "metadata": {},
     "output_type": "execute_result"
    }
   ],
   "source": [
    "to_boolean_list(\"tesh\")"
   ]
  }
 ],
 "metadata": {
  "kernelspec": {
   "display_name": "Python 3 (ipykernel)",
   "language": "python",
   "name": "python3"
  },
  "language_info": {
   "codemirror_mode": {
    "name": "ipython",
    "version": 3
   },
   "file_extension": ".py",
   "mimetype": "text/x-python",
   "name": "python",
   "nbconvert_exporter": "python",
   "pygments_lexer": "ipython3",
   "version": "3.9.7"
  }
 },
 "nbformat": 4,
 "nbformat_minor": 5
}
